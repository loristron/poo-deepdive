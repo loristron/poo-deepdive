{
 "cells": [
  {
   "cell_type": "markdown",
   "metadata": {},
   "source": [
    "# Special methods: Arithmetic Operators\n",
    "\n",
    "a + b = `a.__add__(b)` \n",
    "\n",
    "- `__add__` -> + \n",
    "- `__sub__` -> - \n",
    "- `__mul__` -> * \n",
    "- `__truediv__` -> / \n",
    "- `__floordiv__` -> // \n",
    "- `__mod__` -> % \n",
    "- `__pow__` -> ** "
   ]
  },
  {
   "cell_type": "markdown",
   "metadata": {},
   "source": [
    "## Reflected operators\n",
    "\n",
    "a + b = `b.__radd__(a)`\n",
    "\n",
    "- `__radd__` -> + \n",
    "- `__rsub__` -> - \n",
    "- `__rmul__` -> * \n",
    "- `__rtruediv__` -> / \n",
    "- `__rfloordiv__` -> // \n",
    "- `__rmod__` -> % \n",
    "- `__rpow__` -> ** "
   ]
  },
  {
   "cell_type": "code",
   "execution_count": 119,
   "metadata": {},
   "outputs": [],
   "source": [
    "from numbers import Real\n",
    "from math import sqrt"
   ]
  },
  {
   "cell_type": "code",
   "execution_count": 82,
   "metadata": {},
   "outputs": [],
   "source": [
    "class VectorDimensionMismatch(TypeError):\n",
    "    \"\"\"Vectors must be the same dimension\"\"\"\n",
    "\n",
    "class Vector:\n",
    "    def __init__(self, *components: tuple) -> None:\n",
    "        if len(components) < 1:\n",
    "            raise ValueError(\"Cannot create empty Vector\")\n",
    "        \n",
    "        for component in components:\n",
    "            if not isinstance(component, Real):\n",
    "                raise ValueError('Component is invalid')\n",
    "        \n",
    "        self._components = components\n",
    "\n",
    "    def __len__(self):\n",
    "        return len(self._components)\n",
    "    \n",
    "    def __repr__(self):\n",
    "        return f\"Vector{self.components}\"\n",
    "    \n",
    "    def __add__(self, other):\n",
    "        if not self.validate_type_and_dimension(other):\n",
    "            raise VectorDimensionMismatch(\"Vectors must be the same dimension\")\n",
    "        \n",
    "        components = (x + y for x, y in zip(self.components, other.components))\n",
    "        return Vector(*components)\n",
    "    \n",
    "    def __sub__(self, other):\n",
    "        if not self.validate_type_and_dimension(other):\n",
    "            raise VectorDimensionMismatch(\"Vectors must be the same dimension\")\n",
    "        \n",
    "        components = (x - y for x, y in zip(self.components, other.components))\n",
    "        return Vector(*components)\n",
    "    \n",
    "    def __mul__(self, other):\n",
    "        if not isinstance(other, Real):\n",
    "            return NotImplementedError\n",
    "        \n",
    "        components = (x * other for x in self.components)\n",
    "        return Vector(*components)\n",
    "    \n",
    "    def __rmul__(self, other):\n",
    "        return self * other \n",
    "\n",
    "    def validate_type_and_dimension(self, v):\n",
    "        if not isinstance(v, Vector):\n",
    "            raise NotImplementedError('All values must be Vectors')\n",
    "        \n",
    "        return isinstance(v, Vector) and len(v) == len(self)\n",
    "        \n",
    "    @property\n",
    "    def components(self):\n",
    "        return self._components\n"
   ]
  },
  {
   "cell_type": "code",
   "execution_count": 83,
   "metadata": {},
   "outputs": [],
   "source": [
    "v1 = Vector(1, 2)\n",
    "v2 = Vector(10, 20)\n",
    "v3 = Vector(1, 2)\n",
    "v4 = Vector(1, 2, 3)\n"
   ]
  },
  {
   "cell_type": "code",
   "execution_count": 75,
   "metadata": {},
   "outputs": [
    {
     "ename": "VectorDimensionMismatch",
     "evalue": "Vectors must be the same dimension",
     "output_type": "error",
     "traceback": [
      "\u001b[1;31m---------------------------------------------------------------------------\u001b[0m",
      "\u001b[1;31mVectorDimensionMismatch\u001b[0m                   Traceback (most recent call last)",
      "Cell \u001b[1;32mIn[75], line 1\u001b[0m\n\u001b[1;32m----> 1\u001b[0m \u001b[43mv3\u001b[49m\u001b[43m \u001b[49m\u001b[38;5;241;43m+\u001b[39;49m\u001b[43m \u001b[49m\u001b[43mv4\u001b[49m\n",
      "Cell \u001b[1;32mIn[73], line 23\u001b[0m, in \u001b[0;36mVector.__add__\u001b[1;34m(self, other)\u001b[0m\n\u001b[0;32m     21\u001b[0m \u001b[38;5;28;01mdef\u001b[39;00m \u001b[38;5;21m__add__\u001b[39m(\u001b[38;5;28mself\u001b[39m, other):\n\u001b[0;32m     22\u001b[0m     \u001b[38;5;28;01mif\u001b[39;00m \u001b[38;5;129;01mnot\u001b[39;00m \u001b[38;5;28mself\u001b[39m\u001b[38;5;241m.\u001b[39mvalidate_type_and_dimension(other):\n\u001b[1;32m---> 23\u001b[0m         \u001b[38;5;28;01mraise\u001b[39;00m VectorDimensionMismatch(\u001b[38;5;124m\"\u001b[39m\u001b[38;5;124mVectors must be the same dimension\u001b[39m\u001b[38;5;124m\"\u001b[39m)\n\u001b[0;32m     25\u001b[0m     components \u001b[38;5;241m=\u001b[39m (x \u001b[38;5;241m+\u001b[39m y \u001b[38;5;28;01mfor\u001b[39;00m x, y \u001b[38;5;129;01min\u001b[39;00m \u001b[38;5;28mzip\u001b[39m(\u001b[38;5;28mself\u001b[39m\u001b[38;5;241m.\u001b[39mcomponents, other\u001b[38;5;241m.\u001b[39mcomponents))\n\u001b[0;32m     26\u001b[0m     \u001b[38;5;28;01mreturn\u001b[39;00m Vector(\u001b[38;5;241m*\u001b[39mcomponents)\n",
      "\u001b[1;31mVectorDimensionMismatch\u001b[0m: Vectors must be the same dimension"
     ]
    }
   ],
   "source": [
    "v3 + v4"
   ]
  },
  {
   "cell_type": "code",
   "execution_count": null,
   "metadata": {},
   "outputs": [
    {
     "data": {
      "text/plain": [
       "Vector(11, 22)"
      ]
     },
     "execution_count": 52,
     "metadata": {},
     "output_type": "execute_result"
    }
   ],
   "source": [
    "v1 + v2"
   ]
  },
  {
   "cell_type": "code",
   "execution_count": 79,
   "metadata": {},
   "outputs": [
    {
     "data": {
      "text/plain": [
       "Vector(10, 20)"
      ]
     },
     "execution_count": 79,
     "metadata": {},
     "output_type": "execute_result"
    }
   ],
   "source": [
    "v1 * 10"
   ]
  },
  {
   "cell_type": "code",
   "execution_count": null,
   "metadata": {},
   "outputs": [
    {
     "ename": "TypeError",
     "evalue": "unsupported operand type(s) for *: 'int' and 'Vector'",
     "output_type": "error",
     "traceback": [
      "\u001b[1;31m---------------------------------------------------------------------------\u001b[0m",
      "\u001b[1;31mTypeError\u001b[0m                                 Traceback (most recent call last)",
      "Cell \u001b[1;32mIn[55], line 1\u001b[0m\n\u001b[1;32m----> 1\u001b[0m \u001b[38;5;241;43m10\u001b[39;49m\u001b[43m \u001b[49m\u001b[38;5;241;43m*\u001b[39;49m\u001b[43m \u001b[49m\u001b[43mv1\u001b[49m\n",
      "\u001b[1;31mTypeError\u001b[0m: unsupported operand type(s) for *: 'int' and 'Vector'"
     ]
    }
   ],
   "source": [
    "10 * v1"
   ]
  },
  {
   "cell_type": "markdown",
   "metadata": {},
   "source": [
    "Implement right methods to solve the last typeerror"
   ]
  },
  {
   "cell_type": "code",
   "execution_count": 84,
   "metadata": {},
   "outputs": [
    {
     "data": {
      "text/plain": [
       "Vector(10, 20)"
      ]
     },
     "execution_count": 84,
     "metadata": {},
     "output_type": "execute_result"
    }
   ],
   "source": [
    "10 * v1"
   ]
  },
  {
   "cell_type": "markdown",
   "metadata": {},
   "source": [
    "Changing multiplication"
   ]
  },
  {
   "cell_type": "code",
   "execution_count": 101,
   "metadata": {},
   "outputs": [],
   "source": [
    "class VectorDimensionMismatch(TypeError):\n",
    "    \"\"\"Vectors must be the same dimension\"\"\"\n",
    "\n",
    "class Vector:\n",
    "    def __init__(self, *components: tuple) -> None:\n",
    "        if len(components) < 1:\n",
    "            raise ValueError(\"Cannot create empty Vector\")\n",
    "        \n",
    "        for component in components:\n",
    "            if not isinstance(component, Real):\n",
    "                raise ValueError('Component is invalid')\n",
    "        \n",
    "        self._components = components\n",
    "\n",
    "    def __len__(self):\n",
    "        return len(self._components)\n",
    "    \n",
    "    def __repr__(self):\n",
    "        return f\"Vector{self.components}\"\n",
    "    \n",
    "    def __add__(self, other):\n",
    "        if not self.validate_type_and_dimension(other):\n",
    "            raise VectorDimensionMismatch(\"Vectors must be the same dimension\")\n",
    "        \n",
    "        components = (x + y for x, y in zip(self.components, other.components))\n",
    "        return Vector(*components)\n",
    "    \n",
    "    def __sub__(self, other):\n",
    "        if not self.validate_type_and_dimension(other):\n",
    "            raise VectorDimensionMismatch(\"Vectors must be the same dimension\")\n",
    "        \n",
    "        components = (x - y for x, y in zip(self.components, other.components))\n",
    "        return Vector(*components)\n",
    "    \n",
    "    def __mul__(self, other):\n",
    "        if isinstance(other, Real):\n",
    "            # scalar product\n",
    "            components = (x * other for x in self.components)\n",
    "            return Vector(*components)\n",
    "        \n",
    "        if self.validate_type_and_dimension(other):\n",
    "            # dot product \n",
    "            components = (x * y for x, y in zip(self.components, other.components)) \n",
    "            return sum(components)\n",
    "        \n",
    "        return NotImplementedError\n",
    "\n",
    "    def __matmul__(self, other):\n",
    "        print('matmul called...')\n",
    "    \n",
    "    def __rmul__(self, other):\n",
    "        return self * other \n",
    "        \n",
    "    @property\n",
    "    def components(self):\n",
    "        return self._components\n",
    "    \n",
    "    def validate_type_and_dimension(self, other):\n",
    "        if not isinstance(other, Vector):\n",
    "            raise NotImplementedError('All values must be Vectors')\n",
    "        \n",
    "        return isinstance(other, Vector) and len(other) == len(self)\n"
   ]
  },
  {
   "cell_type": "code",
   "execution_count": 102,
   "metadata": {},
   "outputs": [],
   "source": [
    "v1 = Vector(1, 2)\n",
    "v2 = Vector(3, 4)"
   ]
  },
  {
   "cell_type": "code",
   "execution_count": 96,
   "metadata": {},
   "outputs": [
    {
     "data": {
      "text/plain": [
       "11"
      ]
     },
     "execution_count": 96,
     "metadata": {},
     "output_type": "execute_result"
    }
   ],
   "source": [
    "v1 * v2"
   ]
  },
  {
   "cell_type": "code",
   "execution_count": 103,
   "metadata": {},
   "outputs": [
    {
     "name": "stdout",
     "output_type": "stream",
     "text": [
      "matmul called...\n"
     ]
    }
   ],
   "source": [
    "v1 @ v2"
   ]
  },
  {
   "cell_type": "markdown",
   "metadata": {},
   "source": [
    "### In-Place operators"
   ]
  },
  {
   "cell_type": "code",
   "execution_count": 104,
   "metadata": {},
   "outputs": [
    {
     "data": {
      "text/plain": [
       "2829268876096"
      ]
     },
     "execution_count": 104,
     "metadata": {},
     "output_type": "execute_result"
    }
   ],
   "source": [
    "l = [1, 2]\n",
    "id(l)"
   ]
  },
  {
   "cell_type": "code",
   "execution_count": 105,
   "metadata": {},
   "outputs": [],
   "source": [
    "l += [3, 4]"
   ]
  },
  {
   "cell_type": "code",
   "execution_count": 106,
   "metadata": {},
   "outputs": [
    {
     "data": {
      "text/plain": [
       "(2829268876096, [1, 2, 3, 4])"
      ]
     },
     "execution_count": 106,
     "metadata": {},
     "output_type": "execute_result"
    }
   ],
   "source": [
    "id(l), l"
   ]
  },
  {
   "cell_type": "markdown",
   "metadata": {},
   "source": [
    "For mutable objects"
   ]
  },
  {
   "cell_type": "code",
   "execution_count": 110,
   "metadata": {},
   "outputs": [
    {
     "name": "stdout",
     "output_type": "stream",
     "text": [
      "2829266740672 [1, 2]\n",
      "2829266740672 [1, 2, 3, 4]\n",
      "2829267095616 [1, 2, 3, 4, 3, 4]\n"
     ]
    }
   ],
   "source": [
    "l = [1, 2]\n",
    "print(id(l), l)\n",
    "l += [3, 4]\n",
    "print(id(l), l)\n",
    "l = l + [3, 4]\n",
    "print(id(l), l)"
   ]
  },
  {
   "cell_type": "markdown",
   "metadata": {},
   "source": [
    "For immutable objects"
   ]
  },
  {
   "cell_type": "code",
   "execution_count": 109,
   "metadata": {},
   "outputs": [
    {
     "name": "stdout",
     "output_type": "stream",
     "text": [
      "2829268442304 (1, 2)\n",
      "2829268753104 (1, 2, 3, 4)\n"
     ]
    }
   ],
   "source": [
    "t = (1, 2)\n",
    "print(id(t), t)\n",
    "t += (3, 4)\n",
    "print(id(t), t)"
   ]
  },
  {
   "cell_type": "markdown",
   "metadata": {},
   "source": [
    "In place operators use the same object by default. Only changes the object in immutable objects"
   ]
  },
  {
   "cell_type": "code",
   "execution_count": 123,
   "metadata": {},
   "outputs": [],
   "source": [
    "class VectorDimensionMismatch(TypeError):\n",
    "    \"\"\"Vectors must be the same dimension\"\"\"\n",
    "\n",
    "class Vector:\n",
    "    def __init__(self, *components: tuple) -> None:\n",
    "        if len(components) < 1:\n",
    "            raise ValueError(\"Cannot create empty Vector\")\n",
    "        \n",
    "        for component in components:\n",
    "            if not isinstance(component, Real):\n",
    "                raise ValueError('Component is invalid')\n",
    "        \n",
    "        self._components = components\n",
    "\n",
    "    def __len__(self):\n",
    "        return len(self._components)\n",
    "    \n",
    "    def __repr__(self):\n",
    "        return f\"Vector{self.components}\"\n",
    "    \n",
    "    def __add__(self, other):\n",
    "        if not self.validate_type_and_dimension(other):\n",
    "            raise VectorDimensionMismatch(\"Vectors must be the same dimension\")\n",
    "        \n",
    "        components = (x + y for x, y in zip(self.components, other.components))\n",
    "        return Vector(*components)\n",
    "    \n",
    "    def __sub__(self, other):\n",
    "        if not self.validate_type_and_dimension(other):\n",
    "            raise VectorDimensionMismatch(\"Vectors must be the same dimension\")\n",
    "        \n",
    "        components = (x - y for x, y in zip(self.components, other.components))\n",
    "        return Vector(*components)\n",
    "    \n",
    "    def __mul__(self, other):\n",
    "        if isinstance(other, Real):\n",
    "            # scalar product\n",
    "            components = (x * other for x in self.components)\n",
    "            return Vector(*components)\n",
    "        \n",
    "        if self.validate_type_and_dimension(other):\n",
    "            # dot product \n",
    "            components = (x * y for x, y in zip(self.components, other.components)) \n",
    "            return sum(components)\n",
    "        \n",
    "        return NotImplementedError\n",
    "\n",
    "    def __matmul__(self, other):\n",
    "        print('matmul called...')\n",
    "    \n",
    "    def __rmul__(self, other):\n",
    "        return self * other \n",
    "    \n",
    "    def __iadd__(self, other): \n",
    "        # Inplace addition\n",
    "        if self.validate_type_and_dimension(other):\n",
    "            components = (x + y for x, y in zip(self.components, other.components))\n",
    "            self._components = tuple(components) # changes the self\n",
    "            return self\n",
    "        raise NotImplementedError\n",
    "    \n",
    "    def __neg__(self): # Negative\n",
    "        components = (-x for x in self.components)\n",
    "        return Vector(*components)\n",
    "    \n",
    "    def __abs__(self): # Absolute value\n",
    "        return sqrt(sum(x**2 for x in self.components))\n",
    "        \n",
    "    @property\n",
    "    def components(self):\n",
    "        return self._components\n",
    "    \n",
    "    def validate_type_and_dimension(self, other):\n",
    "        if not isinstance(other, Vector):\n",
    "            raise NotImplementedError('All values must be Vectors')\n",
    "        \n",
    "        return isinstance(other, Vector) and len(other) == len(self)\n"
   ]
  },
  {
   "cell_type": "code",
   "execution_count": 121,
   "metadata": {},
   "outputs": [
    {
     "name": "stdout",
     "output_type": "stream",
     "text": [
      "2829269023664 Vector(1, 2)\n",
      "2829269023664 Vector(11, 12)\n"
     ]
    }
   ],
   "source": [
    "v1 = Vector(1, 2)\n",
    "v2 = Vector(10, 10)\n",
    "print(id(v1), v1)\n",
    "v1 += v2 \n",
    "print(id(v1), v1)"
   ]
  },
  {
   "cell_type": "code",
   "execution_count": 117,
   "metadata": {},
   "outputs": [
    {
     "data": {
      "text/plain": [
       "(Vector(1, 2), Vector(-1, -2))"
      ]
     },
     "execution_count": 117,
     "metadata": {},
     "output_type": "execute_result"
    }
   ],
   "source": [
    "v1 = Vector(1, 2)\n",
    "v2 = -v1 \n",
    "\n",
    "v1, v2"
   ]
  },
  {
   "cell_type": "code",
   "execution_count": 118,
   "metadata": {},
   "outputs": [
    {
     "data": {
      "text/plain": [
       "Vector(2, 4)"
      ]
     },
     "execution_count": 118,
     "metadata": {},
     "output_type": "execute_result"
    }
   ],
   "source": [
    "v1 + -v2"
   ]
  },
  {
   "cell_type": "code",
   "execution_count": 124,
   "metadata": {},
   "outputs": [
    {
     "data": {
      "text/plain": [
       "1.4142135623730951"
      ]
     },
     "execution_count": 124,
     "metadata": {},
     "output_type": "execute_result"
    }
   ],
   "source": [
    "v1 = Vector(1, 1)\n",
    "abs(v1)"
   ]
  },
  {
   "cell_type": "markdown",
   "metadata": {},
   "source": [
    "## Usage outside mathematical operations"
   ]
  },
  {
   "cell_type": "code",
   "execution_count": 125,
   "metadata": {},
   "outputs": [],
   "source": [
    "class Person:\n",
    "    def __init__(self, name):\n",
    "        self.name = name \n",
    "\n",
    "    def __repr__(self):\n",
    "        return f\"Person('{self.name}')\""
   ]
  },
  {
   "cell_type": "code",
   "execution_count": 126,
   "metadata": {},
   "outputs": [
    {
     "data": {
      "text/plain": [
       "Person('John')"
      ]
     },
     "execution_count": 126,
     "metadata": {},
     "output_type": "execute_result"
    }
   ],
   "source": [
    "p = Person('John')\n",
    "p"
   ]
  },
  {
   "cell_type": "code",
   "execution_count": 129,
   "metadata": {},
   "outputs": [],
   "source": [
    "class Family:\n",
    "    def __init__(self, mother, father):\n",
    "        self.mother = mother\n",
    "        self.father = father \n",
    "        self.children = [] \n",
    "\n",
    "    def __iadd__(self, other):\n",
    "        self.children.append(other)\n",
    "        return self"
   ]
  },
  {
   "cell_type": "code",
   "execution_count": 130,
   "metadata": {},
   "outputs": [],
   "source": [
    "f = Family(mother=Person('Mary'), father=Person('John'))"
   ]
  },
  {
   "cell_type": "code",
   "execution_count": 131,
   "metadata": {},
   "outputs": [
    {
     "data": {
      "text/plain": [
       "(Person('Mary'), Person('John'), [])"
      ]
     },
     "execution_count": 131,
     "metadata": {},
     "output_type": "execute_result"
    }
   ],
   "source": [
    "f.mother, f.father, f.children"
   ]
  },
  {
   "cell_type": "code",
   "execution_count": 132,
   "metadata": {},
   "outputs": [],
   "source": [
    "f += Person('Erik')"
   ]
  },
  {
   "cell_type": "code",
   "execution_count": 133,
   "metadata": {},
   "outputs": [
    {
     "data": {
      "text/plain": [
       "[Person('Erik')]"
      ]
     },
     "execution_count": 133,
     "metadata": {},
     "output_type": "execute_result"
    }
   ],
   "source": [
    "f.children"
   ]
  },
  {
   "cell_type": "code",
   "execution_count": 135,
   "metadata": {},
   "outputs": [
    {
     "data": {
      "text/plain": [
       "[Person('Erik'), Person('Michael'), Person('Michael')]"
      ]
     },
     "execution_count": 135,
     "metadata": {},
     "output_type": "execute_result"
    }
   ],
   "source": [
    "f += Person('Michael')\n",
    "f.children"
   ]
  }
 ],
 "metadata": {
  "kernelspec": {
   "display_name": "Python 3",
   "language": "python",
   "name": "python3"
  },
  "language_info": {
   "codemirror_mode": {
    "name": "ipython",
    "version": 3
   },
   "file_extension": ".py",
   "mimetype": "text/x-python",
   "name": "python",
   "nbconvert_exporter": "python",
   "pygments_lexer": "ipython3",
   "version": "3.10.11"
  }
 },
 "nbformat": 4,
 "nbformat_minor": 2
}
