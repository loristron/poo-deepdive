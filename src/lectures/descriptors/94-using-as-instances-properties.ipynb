{
 "cells": [
  {
   "cell_type": "markdown",
   "metadata": {},
   "source": [
    "# Using as instance properties\n",
    "\n",
    "What happens when we use `__get__` and `__set__` and also constrain the instance dictionary with `__slots__`? Is not guaranteed to have the instance dictionary available. \n"
   ]
  },
  {
   "cell_type": "markdown",
   "metadata": {},
   "source": []
  }
 ],
 "metadata": {
  "language_info": {
   "name": "python"
  }
 },
 "nbformat": 4,
 "nbformat_minor": 2
}
