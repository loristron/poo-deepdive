{
 "cells": [
  {
   "cell_type": "markdown",
   "metadata": {},
   "source": [
    "# Descriptors"
   ]
  },
  {
   "cell_type": "code",
   "execution_count": 1,
   "metadata": {},
   "outputs": [],
   "source": [
    "from datetime import datetime"
   ]
  },
  {
   "cell_type": "code",
   "execution_count": 2,
   "metadata": {},
   "outputs": [],
   "source": [
    "class TimeUTC:\n",
    "    def __get__(self, instance, owner_class):\n",
    "        return datetime.now().isoformat()"
   ]
  },
  {
   "cell_type": "code",
   "execution_count": 3,
   "metadata": {},
   "outputs": [],
   "source": [
    "class Logger:\n",
    "    current_time = TimeUTC()"
   ]
  },
  {
   "cell_type": "code",
   "execution_count": 4,
   "metadata": {},
   "outputs": [
    {
     "data": {
      "text/plain": [
       "'2024-11-22T09:41:40.116771'"
      ]
     },
     "execution_count": 4,
     "metadata": {},
     "output_type": "execute_result"
    }
   ],
   "source": [
    "Logger.current_time"
   ]
  },
  {
   "cell_type": "code",
   "execution_count": 5,
   "metadata": {},
   "outputs": [
    {
     "data": {
      "text/plain": [
       "'2024-11-22T09:41:51.654973'"
      ]
     },
     "execution_count": 5,
     "metadata": {},
     "output_type": "execute_result"
    }
   ],
   "source": [
    "l = Logger()\n",
    "\n",
    "l.current_time"
   ]
  },
  {
   "cell_type": "code",
   "execution_count": 6,
   "metadata": {},
   "outputs": [],
   "source": [
    "from random import choice, seed"
   ]
  },
  {
   "cell_type": "code",
   "execution_count": 17,
   "metadata": {},
   "outputs": [],
   "source": [
    "class Deck:\n",
    "\n",
    "    @property\n",
    "    def suit(self):\n",
    "        return choice(('Spade', 'Heart', 'Diamond', 'Club'))\n",
    "    \n",
    "    @property\n",
    "    def card(self):\n",
    "        return choice(tuple('23456789JQKA') + ('10', ''))"
   ]
  },
  {
   "cell_type": "code",
   "execution_count": 18,
   "metadata": {},
   "outputs": [
    {
     "name": "stdout",
     "output_type": "stream",
     "text": [
      " Club\n",
      "10 Club\n",
      "2 Diamond\n",
      "J Club\n",
      "8 Diamond\n",
      "9 Diamond\n",
      "Q Heart\n",
      "J Heart\n",
      "6 Heart\n",
      "10 Spade\n"
     ]
    }
   ],
   "source": [
    "d = Deck()\n",
    "\n",
    "seed(0)\n",
    "\n",
    "for _ in range(10):\n",
    "    print(d.card, d.suit)"
   ]
  },
  {
   "cell_type": "code",
   "execution_count": 19,
   "metadata": {},
   "outputs": [],
   "source": [
    "class Choice:\n",
    "    def __init__(self, *choices):\n",
    "        self.choices = choices\n",
    "\n",
    "    def __get__(self, instance, owner_class):\n",
    "        return choice(self.choices)"
   ]
  },
  {
   "cell_type": "code",
   "execution_count": 20,
   "metadata": {},
   "outputs": [],
   "source": [
    "class Deck:\n",
    "    suit = Choice('Spade', 'Heart', 'Diamond', 'Club')\n",
    "    card = Choice(*'23456789JQKA', '10')"
   ]
  },
  {
   "cell_type": "code",
   "execution_count": 21,
   "metadata": {},
   "outputs": [
    {
     "name": "stdout",
     "output_type": "stream",
     "text": [
      "8 Club\n",
      "2 Diamond\n",
      "J Club\n",
      "8 Diamond\n",
      "9 Diamond\n",
      "Q Heart\n",
      "J Heart\n",
      "6 Heart\n",
      "10 Spade\n",
      "Q Diamond\n"
     ]
    }
   ],
   "source": [
    "seed(0)\n",
    "\n",
    "d = Deck\n",
    "\n",
    "for _ in range(10):\n",
    "    print(d.card, d.suit)"
   ]
  },
  {
   "cell_type": "code",
   "execution_count": 22,
   "metadata": {},
   "outputs": [],
   "source": [
    "class Dice:\n",
    "    die_1 = Choice(1, 2, 3, 4, 5, 6)\n",
    "    die_2 = Choice(1, 2, 3, 4, 5, 6)\n",
    "\n",
    "dice = Dice()"
   ]
  },
  {
   "cell_type": "code",
   "execution_count": 23,
   "metadata": {},
   "outputs": [
    {
     "name": "stdout",
     "output_type": "stream",
     "text": [
      "4 4\n",
      "1 3\n",
      "5 4\n",
      "4 3\n",
      "4 3\n",
      "5 2\n",
      "5 2\n",
      "3 2\n",
      "1 5\n",
      "3 5\n"
     ]
    }
   ],
   "source": [
    "seed(0)\n",
    "\n",
    "for _ in range(10):\n",
    "    print(dice.die_1, dice.die_2)"
   ]
  }
 ],
 "metadata": {
  "kernelspec": {
   "display_name": "Python 3",
   "language": "python",
   "name": "python3"
  },
  "language_info": {
   "codemirror_mode": {
    "name": "ipython",
    "version": 3
   },
   "file_extension": ".py",
   "mimetype": "text/x-python",
   "name": "python",
   "nbconvert_exporter": "python",
   "pygments_lexer": "ipython3",
   "version": "3.13.0"
  }
 },
 "nbformat": 4,
 "nbformat_minor": 2
}
