{
 "cells": [
  {
   "cell_type": "markdown",
   "metadata": {},
   "source": [
    "# Customizing and Extending Enumerations"
   ]
  },
  {
   "cell_type": "code",
   "execution_count": 86,
   "metadata": {},
   "outputs": [],
   "source": [
    "from enum import Enum"
   ]
  },
  {
   "cell_type": "code",
   "execution_count": 87,
   "metadata": {},
   "outputs": [],
   "source": [
    "class Color(Enum):\n",
    "    red = 1 \n",
    "    green = 2 \n",
    "    blue = 3\n",
    "\n",
    "    def purecolor(self, value):\n",
    "        return {self: value}"
   ]
  },
  {
   "cell_type": "code",
   "execution_count": 88,
   "metadata": {},
   "outputs": [
    {
     "data": {
      "text/plain": [
       "({<Color.red: 1>: 100}, {<Color.blue: 3>: 255})"
      ]
     },
     "execution_count": 88,
     "metadata": {},
     "output_type": "execute_result"
    }
   ],
   "source": [
    "Color.red.purecolor(100),Color.blue.purecolor(255)"
   ]
  },
  {
   "cell_type": "markdown",
   "metadata": {},
   "source": [
    "In extend to that, we can override the dunder methods"
   ]
  },
  {
   "cell_type": "code",
   "execution_count": 89,
   "metadata": {},
   "outputs": [
    {
     "data": {
      "text/plain": [
       "<Color.red: 1>"
      ]
     },
     "execution_count": 89,
     "metadata": {},
     "output_type": "execute_result"
    }
   ],
   "source": [
    "Color.red"
   ]
  },
  {
   "cell_type": "code",
   "execution_count": 90,
   "metadata": {},
   "outputs": [],
   "source": [
    "class Color(Enum):\n",
    "    red = 1 \n",
    "    green = 2 \n",
    "    blue = 3\n",
    "\n",
    "    def purecolor(self, value):\n",
    "        return {self: value}\n",
    "    \n",
    "    def __repr__(self):\n",
    "        return f\"{self.name.capitalize()} ({self.value})\""
   ]
  },
  {
   "cell_type": "code",
   "execution_count": 91,
   "metadata": {},
   "outputs": [
    {
     "data": {
      "text/plain": [
       "Red (1)"
      ]
     },
     "execution_count": 91,
     "metadata": {},
     "output_type": "execute_result"
    }
   ],
   "source": [
    "Color.red"
   ]
  },
  {
   "cell_type": "code",
   "execution_count": 92,
   "metadata": {},
   "outputs": [],
   "source": [
    "class Number(Enum):\n",
    "    ONE = 1 \n",
    "    TWO = 2 \n",
    "    THREE = 3 "
   ]
  },
  {
   "cell_type": "code",
   "execution_count": 93,
   "metadata": {},
   "outputs": [
    {
     "ename": "TypeError",
     "evalue": "'>' not supported between instances of 'Number' and 'Number'",
     "output_type": "error",
     "traceback": [
      "\u001b[1;31m---------------------------------------------------------------------------\u001b[0m",
      "\u001b[1;31mTypeError\u001b[0m                                 Traceback (most recent call last)",
      "Cell \u001b[1;32mIn[93], line 1\u001b[0m\n\u001b[1;32m----> 1\u001b[0m \u001b[43mNumber\u001b[49m\u001b[38;5;241;43m.\u001b[39;49m\u001b[43mONE\u001b[49m\u001b[43m \u001b[49m\u001b[38;5;241;43m>\u001b[39;49m\u001b[43m \u001b[49m\u001b[43mNumber\u001b[49m\u001b[38;5;241;43m.\u001b[39;49m\u001b[43mTWO\u001b[49m\n",
      "\u001b[1;31mTypeError\u001b[0m: '>' not supported between instances of 'Number' and 'Number'"
     ]
    }
   ],
   "source": [
    "Number.ONE > Number.TWO"
   ]
  },
  {
   "cell_type": "code",
   "execution_count": 13,
   "metadata": {},
   "outputs": [],
   "source": [
    "class Number(Enum):\n",
    "    ONE = 1 \n",
    "    TWO = 2 \n",
    "    THREE = 3 \n",
    "\n",
    "    def __lt__(self, other):\n",
    "        return isinstance(other, Number) and self.value < other.value"
   ]
  },
  {
   "cell_type": "code",
   "execution_count": 14,
   "metadata": {},
   "outputs": [
    {
     "data": {
      "text/plain": [
       "True"
      ]
     },
     "execution_count": 14,
     "metadata": {},
     "output_type": "execute_result"
    }
   ],
   "source": [
    "Number.ONE < Number.TWO"
   ]
  },
  {
   "cell_type": "markdown",
   "metadata": {},
   "source": [
    "Even with the `__gt__` method not implemented, Python mirrors the `__lt__`"
   ]
  },
  {
   "cell_type": "code",
   "execution_count": 15,
   "metadata": {},
   "outputs": [
    {
     "data": {
      "text/plain": [
       "False"
      ]
     },
     "execution_count": 15,
     "metadata": {},
     "output_type": "execute_result"
    }
   ],
   "source": [
    "Number.ONE > Number.TWO"
   ]
  },
  {
   "cell_type": "code",
   "execution_count": 16,
   "metadata": {},
   "outputs": [
    {
     "data": {
      "text/plain": [
       "False"
      ]
     },
     "execution_count": 16,
     "metadata": {},
     "output_type": "execute_result"
    }
   ],
   "source": [
    "Number.ONE == 1"
   ]
  },
  {
   "cell_type": "code",
   "execution_count": 17,
   "metadata": {},
   "outputs": [],
   "source": [
    "class Number(Enum):\n",
    "    ONE = 1 \n",
    "    TWO = 2 \n",
    "    THREE = 3 \n",
    "\n",
    "    def __lt__(self, other):\n",
    "        return isinstance(other, Number) and self.value < other.value\n",
    "    \n",
    "    def __eq__(self, other):\n",
    "        if isinstance(other, Number):\n",
    "            return self is other \n",
    "        elif isinstance(other, int):\n",
    "            return self.value == other \n",
    "        else:\n",
    "            False"
   ]
  },
  {
   "cell_type": "code",
   "execution_count": 21,
   "metadata": {},
   "outputs": [
    {
     "data": {
      "text/plain": [
       "True"
      ]
     },
     "execution_count": 21,
     "metadata": {},
     "output_type": "execute_result"
    }
   ],
   "source": [
    "Number.ONE == 1 "
   ]
  },
  {
   "cell_type": "code",
   "execution_count": 22,
   "metadata": {},
   "outputs": [],
   "source": [
    "Number.ONE == 1.0"
   ]
  },
  {
   "cell_type": "markdown",
   "metadata": {},
   "source": [
    "But we have to be careful, since we implemented the `__eq__` method, now the Enumeration elements are not hashable anymor"
   ]
  },
  {
   "cell_type": "code",
   "execution_count": 25,
   "metadata": {},
   "outputs": [
    {
     "ename": "TypeError",
     "evalue": "unhashable type: 'Number'",
     "output_type": "error",
     "traceback": [
      "\u001b[1;31m---------------------------------------------------------------------------\u001b[0m",
      "\u001b[1;31mTypeError\u001b[0m                                 Traceback (most recent call last)",
      "Cell \u001b[1;32mIn[25], line 1\u001b[0m\n\u001b[1;32m----> 1\u001b[0m \u001b[38;5;28;43mhash\u001b[39;49m\u001b[43m(\u001b[49m\u001b[43mNumber\u001b[49m\u001b[38;5;241;43m.\u001b[39;49m\u001b[43mONE\u001b[49m\u001b[43m)\u001b[49m\n",
      "\u001b[1;31mTypeError\u001b[0m: unhashable type: 'Number'"
     ]
    }
   ],
   "source": [
    "hash(Number.ONE)"
   ]
  },
  {
   "cell_type": "code",
   "execution_count": 26,
   "metadata": {},
   "outputs": [
    {
     "data": {
      "text/plain": [
       "True"
      ]
     },
     "execution_count": 26,
     "metadata": {},
     "output_type": "execute_result"
    }
   ],
   "source": [
    "Number.ONE < Number.TWO"
   ]
  },
  {
   "cell_type": "code",
   "execution_count": 27,
   "metadata": {},
   "outputs": [
    {
     "ename": "TypeError",
     "evalue": "'<=' not supported between instances of 'Number' and 'Number'",
     "output_type": "error",
     "traceback": [
      "\u001b[1;31m---------------------------------------------------------------------------\u001b[0m",
      "\u001b[1;31mTypeError\u001b[0m                                 Traceback (most recent call last)",
      "Cell \u001b[1;32mIn[27], line 1\u001b[0m\n\u001b[1;32m----> 1\u001b[0m \u001b[43mNumber\u001b[49m\u001b[38;5;241;43m.\u001b[39;49m\u001b[43mONE\u001b[49m\u001b[43m \u001b[49m\u001b[38;5;241;43m<\u001b[39;49m\u001b[38;5;241;43m=\u001b[39;49m\u001b[43m \u001b[49m\u001b[43mNumber\u001b[49m\u001b[38;5;241;43m.\u001b[39;49m\u001b[43mTWO\u001b[49m\n",
      "\u001b[1;31mTypeError\u001b[0m: '<=' not supported between instances of 'Number' and 'Number'"
     ]
    }
   ],
   "source": [
    "Number.ONE <= Number.TWO"
   ]
  },
  {
   "cell_type": "markdown",
   "metadata": {},
   "source": [
    "Insted of manually implement it all, we can import from `functools` the `total_ordering` module, that autocompletes the rest of the operations"
   ]
  },
  {
   "cell_type": "code",
   "execution_count": 28,
   "metadata": {},
   "outputs": [],
   "source": [
    "from functools import total_ordering\n",
    "\n",
    "@total_ordering\n",
    "class Number(Enum):\n",
    "    ONE = 1 \n",
    "    TWO = 2 \n",
    "    THREE = 3 \n",
    "\n",
    "    def __lt__(self, other):\n",
    "        return isinstance(other, Number) and self.value < other.value\n",
    "    \n",
    "    def __eq__(self, other):\n",
    "        if isinstance(other, Number):\n",
    "            return self is other \n",
    "        elif isinstance(other, int):\n",
    "            return self.value == other \n",
    "        else:\n",
    "            False"
   ]
  },
  {
   "cell_type": "code",
   "execution_count": 29,
   "metadata": {},
   "outputs": [
    {
     "data": {
      "text/plain": [
       "True"
      ]
     },
     "execution_count": 29,
     "metadata": {},
     "output_type": "execute_result"
    }
   ],
   "source": [
    "Number.ONE <= Number.TWO"
   ]
  },
  {
   "cell_type": "markdown",
   "metadata": {},
   "source": [
    "## Another Example"
   ]
  },
  {
   "cell_type": "code",
   "execution_count": 109,
   "metadata": {},
   "outputs": [],
   "source": [
    "class Phase(Enum):\n",
    "    READY = 'ready'\n",
    "    RUNNING = 'running'\n",
    "    FINISHED = 'finished'\n",
    "\n",
    "    @staticmethod\n",
    "    def get_element_index(element):\n",
    "        all_elements_list = list(Phase)\n",
    "        try:\n",
    "            element  = Phase(element)\n",
    "            element_index =  all_elements_list.index(element)\n",
    "            return element_index\n",
    "        except ValueError:\n",
    "            raise ValueError(f\"Item '{element}' not found in enumeration class {all_elements_list}.\")\n",
    "\n",
    "    def __str__(self) -> str:\n",
    "        return f\"{self.value}\"\n",
    "    \n",
    "    def __eq__(self, other) -> bool:\n",
    "        if isinstance(other, Phase):\n",
    "            return self is other\n",
    "        elif isinstance(other, str):\n",
    "            return self.value == other.strip().lower() \n",
    "        \n",
    "    def __lt__(self, other):\n",
    "        self_order_inex = Phase.get_element_index(self)\n",
    "        other_order_index = Phase.get_element_index(other)\n",
    "        return self_order_inex < other_order_index\n"
   ]
  },
  {
   "cell_type": "code",
   "execution_count": 106,
   "metadata": {},
   "outputs": [
    {
     "data": {
      "text/plain": [
       "True"
      ]
     },
     "execution_count": 106,
     "metadata": {},
     "output_type": "execute_result"
    }
   ],
   "source": [
    "Phase.READY < Phase.RUNNING"
   ]
  },
  {
   "cell_type": "code",
   "execution_count": 107,
   "metadata": {},
   "outputs": [
    {
     "data": {
      "text/plain": [
       "True"
      ]
     },
     "execution_count": 107,
     "metadata": {},
     "output_type": "execute_result"
    }
   ],
   "source": [
    "Phase.READY < 'running'"
   ]
  },
  {
   "cell_type": "code",
   "execution_count": 112,
   "metadata": {},
   "outputs": [
    {
     "name": "stdout",
     "output_type": "stream",
     "text": [
      "teste\n"
     ]
    },
    {
     "ename": "TypeError",
     "evalue": "'<' not supported between instances of 'int' and 'NoneType'",
     "output_type": "error",
     "traceback": [
      "\u001b[1;31m---------------------------------------------------------------------------\u001b[0m",
      "\u001b[1;31mTypeError\u001b[0m                                 Traceback (most recent call last)",
      "Cell \u001b[1;32mIn[112], line 1\u001b[0m\n\u001b[1;32m----> 1\u001b[0m \u001b[43mPhase\u001b[49m\u001b[38;5;241;43m.\u001b[39;49m\u001b[43mREADY\u001b[49m\u001b[43m \u001b[49m\u001b[38;5;241;43m<\u001b[39;49m\u001b[43m \u001b[49m\u001b[38;5;124;43m'\u001b[39;49m\u001b[38;5;124;43mok\u001b[39;49m\u001b[38;5;124;43m'\u001b[39;49m\n",
      "Cell \u001b[1;32mIn[109], line 28\u001b[0m, in \u001b[0;36mPhase.__lt__\u001b[1;34m(self, other)\u001b[0m\n\u001b[0;32m     26\u001b[0m self_order_inex \u001b[38;5;241m=\u001b[39m Phase\u001b[38;5;241m.\u001b[39mget_element_index(\u001b[38;5;28mself\u001b[39m)\n\u001b[0;32m     27\u001b[0m other_order_index \u001b[38;5;241m=\u001b[39m Phase\u001b[38;5;241m.\u001b[39mget_element_index(other)\n\u001b[1;32m---> 28\u001b[0m \u001b[38;5;28;01mreturn\u001b[39;00m \u001b[43mself_order_inex\u001b[49m\u001b[43m \u001b[49m\u001b[38;5;241;43m<\u001b[39;49m\u001b[43m \u001b[49m\u001b[43mother_order_index\u001b[49m\n",
      "\u001b[1;31mTypeError\u001b[0m: '<' not supported between instances of 'int' and 'NoneType'"
     ]
    }
   ],
   "source": [
    "Phase.READY < 'ok'"
   ]
  },
  {
   "cell_type": "markdown",
   "metadata": {},
   "source": [
    "By default, all enumerations elemnets are `True`"
   ]
  },
  {
   "cell_type": "code",
   "execution_count": 113,
   "metadata": {},
   "outputs": [],
   "source": [
    "class State(Enum):\n",
    "    READY = 1 \n",
    "    BUSY = 0 "
   ]
  },
  {
   "cell_type": "code",
   "execution_count": 115,
   "metadata": {},
   "outputs": [
    {
     "data": {
      "text/plain": [
       "(True, True)"
      ]
     },
     "execution_count": 115,
     "metadata": {},
     "output_type": "execute_result"
    }
   ],
   "source": [
    "bool(State.READY), bool(State.BUSY)"
   ]
  },
  {
   "cell_type": "code",
   "execution_count": 118,
   "metadata": {},
   "outputs": [
    {
     "name": "stdout",
     "output_type": "stream",
     "text": [
      "system is busy\n"
     ]
    }
   ],
   "source": [
    "state = State.BUSY\n",
    "if state is State.READY:\n",
    "    print('system ready to process next item')\n",
    "else:\n",
    "    print('system is busy')"
   ]
  },
  {
   "cell_type": "code",
   "execution_count": 117,
   "metadata": {},
   "outputs": [
    {
     "name": "stdout",
     "output_type": "stream",
     "text": [
      "system ready to process next item\n"
     ]
    }
   ],
   "source": [
    "state = State.BUSY\n",
    "if state:\n",
    "    print('system ready to process next item')\n",
    "else:\n",
    "    print('system is busy')"
   ]
  },
  {
   "cell_type": "code",
   "execution_count": 119,
   "metadata": {},
   "outputs": [],
   "source": [
    "class State(Enum):\n",
    "    READY = 1 \n",
    "    BUSY = 0 \n",
    "\n",
    "    def __bool__(self):\n",
    "        return bool(self.value)"
   ]
  },
  {
   "cell_type": "code",
   "execution_count": 122,
   "metadata": {},
   "outputs": [
    {
     "name": "stdout",
     "output_type": "stream",
     "text": [
      "system is busy\n"
     ]
    }
   ],
   "source": [
    "state = State.BUSY\n",
    "\n",
    "if state:\n",
    "    print('system ready to process next item')\n",
    "else:\n",
    "    print('system is busy')"
   ]
  },
  {
   "cell_type": "markdown",
   "metadata": {},
   "source": [
    "## Enumeration extensions\n",
    "\n",
    "First, to remind that extensions are not possible:"
   ]
  },
  {
   "cell_type": "code",
   "execution_count": 123,
   "metadata": {},
   "outputs": [],
   "source": [
    "class Color(Enum):\n",
    "    RED = 1\n",
    "    GREEN = 2 \n",
    "    BLUE = 3 "
   ]
  },
  {
   "cell_type": "code",
   "execution_count": 124,
   "metadata": {},
   "outputs": [
    {
     "ename": "TypeError",
     "evalue": "ColorAlpha: cannot extend enumeration 'Color'",
     "output_type": "error",
     "traceback": [
      "\u001b[1;31m---------------------------------------------------------------------------\u001b[0m",
      "\u001b[1;31mTypeError\u001b[0m                                 Traceback (most recent call last)",
      "Cell \u001b[1;32mIn[124], line 1\u001b[0m\n\u001b[1;32m----> 1\u001b[0m \u001b[38;5;28;01mclass\u001b[39;00m \u001b[38;5;21;01mColorAlpha\u001b[39;00m(Color):\n\u001b[0;32m      2\u001b[0m     PINK \u001b[38;5;241m=\u001b[39m \u001b[38;5;241m4\u001b[39m\n",
      "File \u001b[1;32mC:\\Program Files\\WindowsApps\\PythonSoftwareFoundation.Python.3.10_3.10.3056.0_x64__qbz5n2kfra8p0\\lib\\enum.py:168\u001b[0m, in \u001b[0;36mEnumMeta.__prepare__\u001b[1;34m(metacls, cls, bases, **kwds)\u001b[0m\n\u001b[0;32m    165\u001b[0m \u001b[38;5;129m@classmethod\u001b[39m\n\u001b[0;32m    166\u001b[0m \u001b[38;5;28;01mdef\u001b[39;00m \u001b[38;5;21m__prepare__\u001b[39m(metacls, \u001b[38;5;28mcls\u001b[39m, bases, \u001b[38;5;241m*\u001b[39m\u001b[38;5;241m*\u001b[39mkwds):\n\u001b[0;32m    167\u001b[0m     \u001b[38;5;66;03m# check that previous enum members do not exist\u001b[39;00m\n\u001b[1;32m--> 168\u001b[0m     \u001b[43mmetacls\u001b[49m\u001b[38;5;241;43m.\u001b[39;49m\u001b[43m_check_for_existing_members\u001b[49m\u001b[43m(\u001b[49m\u001b[38;5;28;43mcls\u001b[39;49m\u001b[43m,\u001b[49m\u001b[43m \u001b[49m\u001b[43mbases\u001b[49m\u001b[43m)\u001b[49m\n\u001b[0;32m    169\u001b[0m     \u001b[38;5;66;03m# create the namespace dict\u001b[39;00m\n\u001b[0;32m    170\u001b[0m     enum_dict \u001b[38;5;241m=\u001b[39m _EnumDict()\n",
      "File \u001b[1;32mC:\\Program Files\\WindowsApps\\PythonSoftwareFoundation.Python.3.10_3.10.3056.0_x64__qbz5n2kfra8p0\\lib\\enum.py:574\u001b[0m, in \u001b[0;36mEnumMeta._check_for_existing_members\u001b[1;34m(class_name, bases)\u001b[0m\n\u001b[0;32m    572\u001b[0m \u001b[38;5;28;01mfor\u001b[39;00m base \u001b[38;5;129;01min\u001b[39;00m chain\u001b[38;5;241m.\u001b[39m\u001b[38;5;18m__mro__\u001b[39m:\n\u001b[0;32m    573\u001b[0m     \u001b[38;5;28;01mif\u001b[39;00m \u001b[38;5;28missubclass\u001b[39m(base, Enum) \u001b[38;5;129;01mand\u001b[39;00m base\u001b[38;5;241m.\u001b[39m_member_names_:\n\u001b[1;32m--> 574\u001b[0m         \u001b[38;5;28;01mraise\u001b[39;00m \u001b[38;5;167;01mTypeError\u001b[39;00m(\n\u001b[0;32m    575\u001b[0m                 \u001b[38;5;124m\"\u001b[39m\u001b[38;5;132;01m%s\u001b[39;00m\u001b[38;5;124m: cannot extend enumeration \u001b[39m\u001b[38;5;132;01m%r\u001b[39;00m\u001b[38;5;124m\"\u001b[39m\n\u001b[0;32m    576\u001b[0m                 \u001b[38;5;241m%\u001b[39m (class_name, base\u001b[38;5;241m.\u001b[39m\u001b[38;5;18m__name__\u001b[39m)\n\u001b[0;32m    577\u001b[0m                 )\n",
      "\u001b[1;31mTypeError\u001b[0m: ColorAlpha: cannot extend enumeration 'Color'"
     ]
    }
   ],
   "source": [
    "class ColorAlpha(Color):\n",
    "    PINK = 4"
   ]
  },
  {
   "cell_type": "markdown",
   "metadata": {},
   "source": [
    "But we do __CAN__ extend the methods, but we cannot use the subclass to extend the members"
   ]
  },
  {
   "cell_type": "code",
   "execution_count": 125,
   "metadata": {},
   "outputs": [],
   "source": [
    "class ColorBase(Enum):\n",
    "    def hello(self):\n",
    "        return f\"{self} says hello\""
   ]
  },
  {
   "cell_type": "code",
   "execution_count": 126,
   "metadata": {},
   "outputs": [],
   "source": [
    "class Color(ColorBase):\n",
    "    RED = 1 \n",
    "    GREEN = 2 \n",
    "    BLUE = 3"
   ]
  },
  {
   "cell_type": "code",
   "execution_count": 128,
   "metadata": {},
   "outputs": [
    {
     "data": {
      "text/plain": [
       "'Color.RED says hello'"
      ]
     },
     "execution_count": 128,
     "metadata": {},
     "output_type": "execute_result"
    }
   ],
   "source": [
    "Color.RED.hello()"
   ]
  },
  {
   "cell_type": "code",
   "execution_count": 129,
   "metadata": {},
   "outputs": [
    {
     "data": {
      "text/plain": [
       "<bound method ColorBase.hello of <Color.BLUE: 3>>"
      ]
     },
     "execution_count": 129,
     "metadata": {},
     "output_type": "execute_result"
    }
   ],
   "source": [
    "Color.BLUE.hello"
   ]
  },
  {
   "cell_type": "markdown",
   "metadata": {},
   "source": [
    "Since we can extend methods, we can use it to override the dunder methods to actual Enum classes with members:"
   ]
  },
  {
   "cell_type": "code",
   "execution_count": 130,
   "metadata": {},
   "outputs": [],
   "source": [
    "from functools import total_ordering"
   ]
  },
  {
   "cell_type": "code",
   "execution_count": 139,
   "metadata": {},
   "outputs": [],
   "source": [
    "@total_ordering\n",
    "class OrderedEnum(Enum):\n",
    "    \"\"\"Create an ordering based on the member values.\n",
    "    So member values have to support rich comparisons\"\"\"\n",
    "\n",
    "    def __lt__(self, other):\n",
    "        if isinstance(other, OrderedEnum):\n",
    "            return self.value < other.value\n",
    "        else:\n",
    "            return NotImplemented"
   ]
  },
  {
   "cell_type": "code",
   "execution_count": 140,
   "metadata": {},
   "outputs": [],
   "source": [
    "class Number(OrderedEnum):\n",
    "    ONE = 1 \n",
    "    TWO = 2\n",
    "    THREE = 3"
   ]
  },
  {
   "cell_type": "code",
   "execution_count": 141,
   "metadata": {},
   "outputs": [],
   "source": [
    "class Dimensio(OrderedEnum):\n",
    "    D1 = 1,\n",
    "    D2 = 1, 1\n",
    "    D3 = 1, 1, 1"
   ]
  },
  {
   "cell_type": "code",
   "execution_count": 142,
   "metadata": {},
   "outputs": [
    {
     "data": {
      "text/plain": [
       "True"
      ]
     },
     "execution_count": 142,
     "metadata": {},
     "output_type": "execute_result"
    }
   ],
   "source": [
    "Number.ONE < Number.TWO"
   ]
  },
  {
   "cell_type": "code",
   "execution_count": 145,
   "metadata": {},
   "outputs": [
    {
     "data": {
      "text/plain": [
       "True"
      ]
     },
     "execution_count": 145,
     "metadata": {},
     "output_type": "execute_result"
    }
   ],
   "source": [
    "Dimensio.D2 > Dimensio.D1"
   ]
  },
  {
   "cell_type": "code",
   "execution_count": 146,
   "metadata": {},
   "outputs": [
    {
     "data": {
      "text/plain": [
       "enum.EnumMeta"
      ]
     },
     "execution_count": 146,
     "metadata": {},
     "output_type": "execute_result"
    }
   ],
   "source": [
    "from http import HTTPStatus\n",
    "type(HTTPStatus)"
   ]
  },
  {
   "cell_type": "code",
   "execution_count": 148,
   "metadata": {},
   "outputs": [
    {
     "data": {
      "text/plain": [
       "[<HTTPStatus.CONTINUE: 100>,\n",
       " <HTTPStatus.SWITCHING_PROTOCOLS: 101>,\n",
       " <HTTPStatus.PROCESSING: 102>,\n",
       " <HTTPStatus.EARLY_HINTS: 103>,\n",
       " <HTTPStatus.OK: 200>,\n",
       " <HTTPStatus.CREATED: 201>,\n",
       " <HTTPStatus.ACCEPTED: 202>,\n",
       " <HTTPStatus.NON_AUTHORITATIVE_INFORMATION: 203>,\n",
       " <HTTPStatus.NO_CONTENT: 204>,\n",
       " <HTTPStatus.RESET_CONTENT: 205>]"
      ]
     },
     "execution_count": 148,
     "metadata": {},
     "output_type": "execute_result"
    }
   ],
   "source": [
    "list(HTTPStatus)[:10]"
   ]
  },
  {
   "cell_type": "code",
   "execution_count": 149,
   "metadata": {},
   "outputs": [
    {
     "data": {
      "text/plain": [
       "<HTTPStatus.BAD_REQUEST: 400>"
      ]
     },
     "execution_count": 149,
     "metadata": {},
     "output_type": "execute_result"
    }
   ],
   "source": [
    "HTTPStatus(400)"
   ]
  },
  {
   "cell_type": "code",
   "execution_count": 152,
   "metadata": {},
   "outputs": [
    {
     "data": {
      "text/plain": [
       "(<HTTPStatus.OK: 200>, 'OK', 200)"
      ]
     },
     "execution_count": 152,
     "metadata": {},
     "output_type": "execute_result"
    }
   ],
   "source": [
    "HTTPStatus.OK, HTTPStatus.OK.name, HTTPStatus.OK.value"
   ]
  },
  {
   "cell_type": "markdown",
   "metadata": {},
   "source": [
    "`HTTPStatus` enumeration, besides name and value, also have the `phrase` property"
   ]
  },
  {
   "cell_type": "code",
   "execution_count": 153,
   "metadata": {},
   "outputs": [
    {
     "data": {
      "text/plain": [
       "(404, 'NOT_FOUND', 'Not Found')"
      ]
     },
     "execution_count": 153,
     "metadata": {},
     "output_type": "execute_result"
    }
   ],
   "source": [
    "HTTPStatus.NOT_FOUND.value, HTTPStatus.NOT_FOUND.name, HTTPStatus.NOT_FOUND.phrase"
   ]
  },
  {
   "cell_type": "markdown",
   "metadata": {},
   "source": [
    "Lets see how to implement something like that ourselves *without* metaprogramming:"
   ]
  },
  {
   "cell_type": "code",
   "execution_count": 154,
   "metadata": {},
   "outputs": [],
   "source": [
    "class AppsStatus(Enum):\n",
    "    OK = (0, 'No problem')\n",
    "    FAILED = (1, 'Crap!')"
   ]
  },
  {
   "cell_type": "code",
   "execution_count": 155,
   "metadata": {},
   "outputs": [
    {
     "data": {
      "text/plain": [
       "<AppsStatus.OK: (0, 'No problem')>"
      ]
     },
     "execution_count": 155,
     "metadata": {},
     "output_type": "execute_result"
    }
   ],
   "source": [
    "AppsStatus.OK "
   ]
  },
  {
   "cell_type": "code",
   "execution_count": 158,
   "metadata": {},
   "outputs": [
    {
     "data": {
      "text/plain": [
       "(0, 'No problem')"
      ]
     },
     "execution_count": 158,
     "metadata": {},
     "output_type": "execute_result"
    }
   ],
   "source": [
    "AppsStatus.OK.value[0], AppsStatus.OK.value[1]"
   ]
  },
  {
   "cell_type": "code",
   "execution_count": 159,
   "metadata": {},
   "outputs": [],
   "source": [
    "class AppsStatus(Enum):\n",
    "    OK = (0, 'No problem')\n",
    "    FAILED = (1, 'Crap!')\n",
    "\n",
    "    @property\n",
    "    def code(self):\n",
    "        return self.value[0]\n",
    "    \n",
    "    @property\n",
    "    def phrase(self):\n",
    "        return self.value[1]"
   ]
  },
  {
   "cell_type": "code",
   "execution_count": 161,
   "metadata": {},
   "outputs": [
    {
     "data": {
      "text/plain": [
       "(0, 'No problem')"
      ]
     },
     "execution_count": 161,
     "metadata": {},
     "output_type": "execute_result"
    }
   ],
   "source": [
    "AppsStatus.OK.code, AppsStatus.OK.phrase"
   ]
  },
  {
   "cell_type": "markdown",
   "metadata": {},
   "source": [
    "We have a problem here: we cannot lookup the status using the code like we did in the `HTTPStatus(200)`"
   ]
  },
  {
   "cell_type": "code",
   "execution_count": 162,
   "metadata": {},
   "outputs": [
    {
     "data": {
      "text/plain": [
       "<HTTPStatus.OK: 200>"
      ]
     },
     "execution_count": 162,
     "metadata": {},
     "output_type": "execute_result"
    }
   ],
   "source": [
    "HTTPStatus(200)"
   ]
  },
  {
   "cell_type": "code",
   "execution_count": 163,
   "metadata": {},
   "outputs": [
    {
     "ename": "ValueError",
     "evalue": "0 is not a valid AppsStatus",
     "output_type": "error",
     "traceback": [
      "\u001b[1;31m---------------------------------------------------------------------------\u001b[0m",
      "\u001b[1;31mValueError\u001b[0m                                Traceback (most recent call last)",
      "Cell \u001b[1;32mIn[163], line 1\u001b[0m\n\u001b[1;32m----> 1\u001b[0m \u001b[43mAppsStatus\u001b[49m\u001b[43m(\u001b[49m\u001b[38;5;241;43m0\u001b[39;49m\u001b[43m)\u001b[49m\n",
      "File \u001b[1;32mC:\\Program Files\\WindowsApps\\PythonSoftwareFoundation.Python.3.10_3.10.3056.0_x64__qbz5n2kfra8p0\\lib\\enum.py:385\u001b[0m, in \u001b[0;36mEnumMeta.__call__\u001b[1;34m(cls, value, names, module, qualname, type, start)\u001b[0m\n\u001b[0;32m    360\u001b[0m \u001b[38;5;250m\u001b[39m\u001b[38;5;124;03m\"\"\"\u001b[39;00m\n\u001b[0;32m    361\u001b[0m \u001b[38;5;124;03mEither returns an existing member, or creates a new enum class.\u001b[39;00m\n\u001b[0;32m    362\u001b[0m \n\u001b[1;32m   (...)\u001b[0m\n\u001b[0;32m    382\u001b[0m \u001b[38;5;124;03m`type`, if set, will be mixed in as the first base class.\u001b[39;00m\n\u001b[0;32m    383\u001b[0m \u001b[38;5;124;03m\"\"\"\u001b[39;00m\n\u001b[0;32m    384\u001b[0m \u001b[38;5;28;01mif\u001b[39;00m names \u001b[38;5;129;01mis\u001b[39;00m \u001b[38;5;28;01mNone\u001b[39;00m:  \u001b[38;5;66;03m# simple value lookup\u001b[39;00m\n\u001b[1;32m--> 385\u001b[0m     \u001b[38;5;28;01mreturn\u001b[39;00m \u001b[38;5;28;43mcls\u001b[39;49m\u001b[38;5;241;43m.\u001b[39;49m\u001b[38;5;21;43m__new__\u001b[39;49m\u001b[43m(\u001b[49m\u001b[38;5;28;43mcls\u001b[39;49m\u001b[43m,\u001b[49m\u001b[43m \u001b[49m\u001b[43mvalue\u001b[49m\u001b[43m)\u001b[49m\n\u001b[0;32m    386\u001b[0m \u001b[38;5;66;03m# otherwise, functional API: we're creating a new Enum type\u001b[39;00m\n\u001b[0;32m    387\u001b[0m \u001b[38;5;28;01mreturn\u001b[39;00m \u001b[38;5;28mcls\u001b[39m\u001b[38;5;241m.\u001b[39m_create_(\n\u001b[0;32m    388\u001b[0m         value,\n\u001b[0;32m    389\u001b[0m         names,\n\u001b[1;32m   (...)\u001b[0m\n\u001b[0;32m    393\u001b[0m         start\u001b[38;5;241m=\u001b[39mstart,\n\u001b[0;32m    394\u001b[0m         )\n",
      "File \u001b[1;32mC:\\Program Files\\WindowsApps\\PythonSoftwareFoundation.Python.3.10_3.10.3056.0_x64__qbz5n2kfra8p0\\lib\\enum.py:710\u001b[0m, in \u001b[0;36mEnum.__new__\u001b[1;34m(cls, value)\u001b[0m\n\u001b[0;32m    708\u001b[0m ve_exc \u001b[38;5;241m=\u001b[39m \u001b[38;5;167;01mValueError\u001b[39;00m(\u001b[38;5;124m\"\u001b[39m\u001b[38;5;132;01m%r\u001b[39;00m\u001b[38;5;124m is not a valid \u001b[39m\u001b[38;5;132;01m%s\u001b[39;00m\u001b[38;5;124m\"\u001b[39m \u001b[38;5;241m%\u001b[39m (value, \u001b[38;5;28mcls\u001b[39m\u001b[38;5;241m.\u001b[39m\u001b[38;5;18m__qualname__\u001b[39m))\n\u001b[0;32m    709\u001b[0m \u001b[38;5;28;01mif\u001b[39;00m result \u001b[38;5;129;01mis\u001b[39;00m \u001b[38;5;28;01mNone\u001b[39;00m \u001b[38;5;129;01mand\u001b[39;00m exc \u001b[38;5;129;01mis\u001b[39;00m \u001b[38;5;28;01mNone\u001b[39;00m:\n\u001b[1;32m--> 710\u001b[0m     \u001b[38;5;28;01mraise\u001b[39;00m ve_exc\n\u001b[0;32m    711\u001b[0m \u001b[38;5;28;01melif\u001b[39;00m exc \u001b[38;5;129;01mis\u001b[39;00m \u001b[38;5;28;01mNone\u001b[39;00m:\n\u001b[0;32m    712\u001b[0m     exc \u001b[38;5;241m=\u001b[39m \u001b[38;5;167;01mTypeError\u001b[39;00m(\n\u001b[0;32m    713\u001b[0m             \u001b[38;5;124m'\u001b[39m\u001b[38;5;124merror in \u001b[39m\u001b[38;5;132;01m%s\u001b[39;00m\u001b[38;5;124m._missing_: returned \u001b[39m\u001b[38;5;132;01m%r\u001b[39;00m\u001b[38;5;124m instead of None or a valid member\u001b[39m\u001b[38;5;124m'\u001b[39m\n\u001b[0;32m    714\u001b[0m             \u001b[38;5;241m%\u001b[39m (\u001b[38;5;28mcls\u001b[39m\u001b[38;5;241m.\u001b[39m\u001b[38;5;18m__name__\u001b[39m, result)\n\u001b[0;32m    715\u001b[0m             )\n",
      "\u001b[1;31mValueError\u001b[0m: 0 is not a valid AppsStatus"
     ]
    }
   ],
   "source": [
    "AppsStatus(0)"
   ]
  },
  {
   "cell_type": "code",
   "execution_count": 167,
   "metadata": {},
   "outputs": [
    {
     "data": {
      "text/plain": [
       "<AppsStatus.OK: (0, 'No problem')>"
      ]
     },
     "execution_count": 167,
     "metadata": {},
     "output_type": "execute_result"
    }
   ],
   "source": [
    "AppsStatus((0,'No problem'))"
   ]
  },
  {
   "cell_type": "markdown",
   "metadata": {},
   "source": [
    "We solve that with the `__new__` method"
   ]
  },
  {
   "cell_type": "code",
   "execution_count": 170,
   "metadata": {},
   "outputs": [
    {
     "name": "stdout",
     "output_type": "stream",
     "text": [
      "__new__(cls=<enum 'AppsStatus'>, member_value=0, member_phrase=No problem)\n",
      "__new__(cls=<enum 'AppsStatus'>, member_value=1, member_phrase=Crap!)\n"
     ]
    }
   ],
   "source": [
    "class AppsStatus(Enum):\n",
    "    OK = (0, 'No problem')\n",
    "    FAILED = (1, 'Crap!')\n",
    "\n",
    "    def __new__(cls, member_value, member_phrase):\n",
    "        print(f\"__new__(cls={cls}, member_value={member_value}, member_phrase={member_phrase})\")\n",
    "        # the new must return a member object, an instance of AppStatus, but how do we do that in the class constructor??\n",
    "        # delegated back to the object native python class!\n",
    "        member = object.__new__(cls) \n",
    "        member._value_  = member_value\n",
    "        member.phrase = member_phrase \n",
    "        return member  "
   ]
  },
  {
   "cell_type": "code",
   "execution_count": 173,
   "metadata": {},
   "outputs": [
    {
     "data": {
      "text/plain": [
       "(0, 'OK', 'No problem')"
      ]
     },
     "execution_count": 173,
     "metadata": {},
     "output_type": "execute_result"
    }
   ],
   "source": [
    "AppsStatus.OK.value, AppsStatus.OK.name, AppsStatus.OK.phrase"
   ]
  },
  {
   "cell_type": "code",
   "execution_count": 176,
   "metadata": {},
   "outputs": [
    {
     "data": {
      "text/plain": [
       "'No problem'"
      ]
     },
     "execution_count": 176,
     "metadata": {},
     "output_type": "execute_result"
    }
   ],
   "source": [
    "AppsStatus(0).phrase"
   ]
  },
  {
   "cell_type": "markdown",
   "metadata": {},
   "source": [
    "An combined that with subclassing, we can make this a base for other classes:"
   ]
  },
  {
   "cell_type": "code",
   "execution_count": 177,
   "metadata": {},
   "outputs": [],
   "source": [
    "class TwoValueEnum(Enum):\n",
    "    def __new__(cls, member_value, member_phrase):\n",
    "        member = object.__new__(cls)\n",
    "        member._value_ = member_value\n",
    "        member.phrase = member_phrase\n",
    "        return member"
   ]
  },
  {
   "cell_type": "code",
   "execution_count": 178,
   "metadata": {},
   "outputs": [],
   "source": [
    "class AppsStatus(TwoValueEnum):\n",
    "    OK = (0, 'No problem')\n",
    "    FAILED = (1, 'Crap!')"
   ]
  },
  {
   "cell_type": "code",
   "execution_count": 180,
   "metadata": {},
   "outputs": [
    {
     "data": {
      "text/plain": [
       "'Crap!'"
      ]
     },
     "execution_count": 180,
     "metadata": {},
     "output_type": "execute_result"
    }
   ],
   "source": [
    "AppsStatus(1).phrase"
   ]
  }
 ],
 "metadata": {
  "kernelspec": {
   "display_name": "Python 3",
   "language": "python",
   "name": "python3"
  },
  "language_info": {
   "codemirror_mode": {
    "name": "ipython",
    "version": 3
   },
   "file_extension": ".py",
   "mimetype": "text/x-python",
   "name": "python",
   "nbconvert_exporter": "python",
   "pygments_lexer": "ipython3",
   "version": "3.10.11"
  }
 },
 "nbformat": 4,
 "nbformat_minor": 2
}
