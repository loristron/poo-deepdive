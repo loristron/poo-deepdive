{
 "cells": [
  {
   "cell_type": "markdown",
   "metadata": {},
   "source": [
    "# Automatic values\n",
    "\n",
    "Auto generationg associated values. Behind the scenes, uses a method in th the Enum class, the `_generate_next_value_` method\n",
    "\n",
    "By default, implementation results in sequential integer numbers \n",
    "\n",
    "### `_generate_next_value_(name, start, count, last_values)`\n",
    "\n",
    "`name` - is the anme of the member\n",
    "\n",
    "`start` - only actually used in functional creation (not covered in the course, not used that often)\n",
    "\n",
    "`count` - the numbers of members already created (careful with aliasses)\n",
    "\n",
    "`last_values` a list of preceding values\n",
    "\n",
    "returns:\n",
    "\n",
    "`value` - to be assigne to member\n",
    "\n",
    "#### Overriding \n",
    "\n",
    "The default implementation gernerates sequential integer numbers. Be careful mixnig auto() and our own values. \n",
    "\n",
    "__Safer not to do it!__"
   ]
  },
  {
   "cell_type": "code",
   "execution_count": 2,
   "metadata": {},
   "outputs": [],
   "source": [
    "import enum"
   ]
  },
  {
   "cell_type": "code",
   "execution_count": 3,
   "metadata": {},
   "outputs": [],
   "source": [
    "class State(enum.Enum):\n",
    "    WAITING = enum.auto()\n",
    "    STARTED = enum.auto()\n",
    "    FINISHED = enum.auto()"
   ]
  },
  {
   "cell_type": "code",
   "execution_count": 4,
   "metadata": {},
   "outputs": [
    {
     "name": "stdout",
     "output_type": "stream",
     "text": [
      "WAITING 1\n",
      "STARTED 2\n",
      "FINISHED 3\n"
     ]
    }
   ],
   "source": [
    "for member in State:\n",
    "    print(member.name, member.value)"
   ]
  },
  {
   "cell_type": "code",
   "execution_count": 5,
   "metadata": {},
   "outputs": [],
   "source": [
    "class State(enum.Enum):\n",
    "    WAITING = 100\n",
    "    STARTED = enum.auto()\n",
    "    FINISHED = enum.auto()"
   ]
  },
  {
   "cell_type": "code",
   "execution_count": 6,
   "metadata": {},
   "outputs": [
    {
     "data": {
      "text/plain": [
       "[<State.WAITING: 100>, <State.STARTED: 101>, <State.FINISHED: 102>]"
      ]
     },
     "execution_count": 6,
     "metadata": {},
     "output_type": "execute_result"
    }
   ],
   "source": [
    "list(State)"
   ]
  },
  {
   "cell_type": "markdown",
   "metadata": {},
   "source": [
    "Do not rely on the complementation!! That isn't in the documentation and could change anytime"
   ]
  },
  {
   "cell_type": "code",
   "execution_count": 7,
   "metadata": {},
   "outputs": [],
   "source": [
    "class State(enum.Enum):\n",
    "    WAITING = enum.auto()\n",
    "    STARTED = 1\n",
    "    FINISHED = enum.auto()"
   ]
  },
  {
   "cell_type": "code",
   "execution_count": 8,
   "metadata": {},
   "outputs": [
    {
     "data": {
      "text/plain": [
       "[<State.WAITING: 1>, <State.FINISHED: 2>]"
      ]
     },
     "execution_count": 8,
     "metadata": {},
     "output_type": "execute_result"
    }
   ],
   "source": [
    "list(State)"
   ]
  },
  {
   "cell_type": "code",
   "execution_count": 9,
   "metadata": {},
   "outputs": [
    {
     "ename": "ValueError",
     "evalue": "duplicate values found in <enum 'State'>: STARTED -> WAITING",
     "output_type": "error",
     "traceback": [
      "\u001b[1;31m---------------------------------------------------------------------------\u001b[0m",
      "\u001b[1;31mValueError\u001b[0m                                Traceback (most recent call last)",
      "Cell \u001b[1;32mIn[9], line 2\u001b[0m\n\u001b[0;32m      1\u001b[0m \u001b[38;5;129;43m@enum\u001b[39;49m\u001b[38;5;241;43m.\u001b[39;49m\u001b[43munique\u001b[49m\n\u001b[1;32m----> 2\u001b[0m \u001b[38;5;28;43;01mclass\u001b[39;49;00m\u001b[43m \u001b[49m\u001b[38;5;21;43;01mState\u001b[39;49;00m\u001b[43m(\u001b[49m\u001b[43menum\u001b[49m\u001b[38;5;241;43m.\u001b[39;49m\u001b[43mEnum\u001b[49m\u001b[43m)\u001b[49m\u001b[43m:\u001b[49m\n\u001b[0;32m      3\u001b[0m \u001b[43m    \u001b[49m\u001b[43mWAITING\u001b[49m\u001b[43m \u001b[49m\u001b[38;5;241;43m=\u001b[39;49m\u001b[43m \u001b[49m\u001b[43menum\u001b[49m\u001b[38;5;241;43m.\u001b[39;49m\u001b[43mauto\u001b[49m\u001b[43m(\u001b[49m\u001b[43m)\u001b[49m\n\u001b[0;32m      4\u001b[0m \u001b[43m    \u001b[49m\u001b[43mSTARTED\u001b[49m\u001b[43m \u001b[49m\u001b[38;5;241;43m=\u001b[39;49m\u001b[43m \u001b[49m\u001b[38;5;241;43m1\u001b[39;49m\n",
      "File \u001b[1;32mC:\\Program Files\\WindowsApps\\PythonSoftwareFoundation.Python.3.10_3.10.3056.0_x64__qbz5n2kfra8p0\\lib\\enum.py:1022\u001b[0m, in \u001b[0;36munique\u001b[1;34m(enumeration)\u001b[0m\n\u001b[0;32m   1019\u001b[0m \u001b[38;5;28;01mif\u001b[39;00m duplicates:\n\u001b[0;32m   1020\u001b[0m     alias_details \u001b[38;5;241m=\u001b[39m \u001b[38;5;124m'\u001b[39m\u001b[38;5;124m, \u001b[39m\u001b[38;5;124m'\u001b[39m\u001b[38;5;241m.\u001b[39mjoin(\n\u001b[0;32m   1021\u001b[0m             [\u001b[38;5;124m\"\u001b[39m\u001b[38;5;132;01m%s\u001b[39;00m\u001b[38;5;124m -> \u001b[39m\u001b[38;5;132;01m%s\u001b[39;00m\u001b[38;5;124m\"\u001b[39m \u001b[38;5;241m%\u001b[39m (alias, name) \u001b[38;5;28;01mfor\u001b[39;00m (alias, name) \u001b[38;5;129;01min\u001b[39;00m duplicates])\n\u001b[1;32m-> 1022\u001b[0m     \u001b[38;5;28;01mraise\u001b[39;00m \u001b[38;5;167;01mValueError\u001b[39;00m(\u001b[38;5;124m'\u001b[39m\u001b[38;5;124mduplicate values found in \u001b[39m\u001b[38;5;132;01m%r\u001b[39;00m\u001b[38;5;124m: \u001b[39m\u001b[38;5;132;01m%s\u001b[39;00m\u001b[38;5;124m'\u001b[39m \u001b[38;5;241m%\u001b[39m\n\u001b[0;32m   1023\u001b[0m             (enumeration, alias_details))\n\u001b[0;32m   1024\u001b[0m \u001b[38;5;28;01mreturn\u001b[39;00m enumeration\n",
      "\u001b[1;31mValueError\u001b[0m: duplicate values found in <enum 'State'>: STARTED -> WAITING"
     ]
    }
   ],
   "source": [
    "@enum.unique\n",
    "class State(enum.Enum):\n",
    "    WAITING = enum.auto()\n",
    "    STARTED = 1\n",
    "    FINISHED = enum.auto()"
   ]
  },
  {
   "cell_type": "code",
   "execution_count": 13,
   "metadata": {},
   "outputs": [
    {
     "data": {
      "text/plain": [
       "mappingproxy({'WAITING': <State.WAITING: 100>,\n",
       "              'STARTED': <State.STARTED: 101>,\n",
       "              'FINISHED': <State.FINISHED: 102>})"
      ]
     },
     "execution_count": 13,
     "metadata": {},
     "output_type": "execute_result"
    }
   ],
   "source": [
    "State.__members__"
   ]
  },
  {
   "cell_type": "code",
   "execution_count": 14,
   "metadata": {},
   "outputs": [
    {
     "data": {
      "text/plain": [
       "True"
      ]
     },
     "execution_count": 14,
     "metadata": {},
     "output_type": "execute_result"
    }
   ],
   "source": [
    "hasattr(State, '_generate_next_value_')"
   ]
  },
  {
   "cell_type": "markdown",
   "metadata": {},
   "source": [
    "If has a default implementation we can override it"
   ]
  },
  {
   "cell_type": "code",
   "execution_count": 20,
   "metadata": {},
   "outputs": [
    {
     "name": "stdout",
     "output_type": "stream",
     "text": [
      "name=a, start=1, count=0, last_value=[]\n",
      "name=b, start=1, count=1, last_value=[100]\n",
      "name=c, start=1, count=2, last_value=[100, 100]\n"
     ]
    }
   ],
   "source": [
    "class State(enum.Enum):\n",
    "    def _generate_next_value_(name, start, count, last_value):\n",
    "        print(f\"name={name}, start={start}, count={count}, last_value={last_value}\")\n",
    "        return 100\n",
    "    \n",
    "    a = enum.auto()\n",
    "    b = enum.auto()\n",
    "    c = enum.auto()\n"
   ]
  },
  {
   "cell_type": "code",
   "execution_count": 22,
   "metadata": {},
   "outputs": [
    {
     "name": "stdout",
     "output_type": "stream",
     "text": [
      "name=a, start=1, count=0, last_value=[]\n",
      "name=b, start=1, count=1, last_value=[100]\n",
      "name=c, start=1, count=3, last_value=[100, 100, 200]\n"
     ]
    }
   ],
   "source": [
    "class State(enum.Enum):\n",
    "    def _generate_next_value_(name, start, count, last_value):\n",
    "        print(f\"name={name}, start={start}, count={count}, last_value={last_value}\")\n",
    "        return 100\n",
    "    \n",
    "    a = enum.auto()\n",
    "    b = enum.auto()\n",
    "    d = 200\n",
    "    c = enum.auto()\n"
   ]
  },
  {
   "cell_type": "markdown",
   "metadata": {},
   "source": [
    "Notice that the last value list is a __element ordered__ list"
   ]
  },
  {
   "cell_type": "code",
   "execution_count": 14,
   "metadata": {},
   "outputs": [],
   "source": [
    "import random\n",
    "\n",
    "random.seed(0)\n",
    "\n",
    "class State(enum.Enum):\n",
    "    def _generate_next_value(name, start, count, last_values):\n",
    "        while True:\n",
    "            new_value = random.randint(1, 100)\n",
    "            if new_value not in last_values:\n",
    "                return new_value\n",
    "            \n",
    "    a = enum.auto()\n",
    "    b = enum.auto()\n",
    "    c = enum.auto()\n",
    "    d = enum.auto()"
   ]
  },
  {
   "cell_type": "code",
   "execution_count": 15,
   "metadata": {},
   "outputs": [
    {
     "name": "stdout",
     "output_type": "stream",
     "text": [
      "a 1\n",
      "b 2\n",
      "c 3\n",
      "d 4\n"
     ]
    }
   ],
   "source": [
    "for item in State:\n",
    "    print(item.name, item.value)"
   ]
  },
  {
   "cell_type": "code",
   "execution_count": null,
   "metadata": {},
   "outputs": [],
   "source": [
    "class State(enum.Enum):\n",
    "    READY = 'ready'\n",
    "    WAITING = 'waiting'\n",
    "    "
   ]
  },
  {
   "cell_type": "markdown",
   "metadata": {},
   "source": [
    "In order to not have to repeat the lowercase creation of states, we can override the `_generate_next_value_` mathod "
   ]
  },
  {
   "cell_type": "code",
   "execution_count": 16,
   "metadata": {},
   "outputs": [],
   "source": [
    "class State(enum.Enum):\n",
    "    def _generate_next_value_(name, start, count, last_values):\n",
    "        return name.title()\n",
    "    \n",
    "    WAITING = enum.auto()\n",
    "    STARTED = enum.auto()\n",
    "    FINISHED = enum.auto()"
   ]
  },
  {
   "cell_type": "code",
   "execution_count": 17,
   "metadata": {},
   "outputs": [
    {
     "name": "stdout",
     "output_type": "stream",
     "text": [
      "WAITING Waiting\n",
      "STARTED Started\n",
      "FINISHED Finished\n"
     ]
    }
   ],
   "source": [
    "for item in State:\n",
    "    print(item.name, item.value)"
   ]
  },
  {
   "cell_type": "markdown",
   "metadata": {},
   "source": [
    "This autogenerates a string value"
   ]
  },
  {
   "cell_type": "markdown",
   "metadata": {},
   "source": [
    "To make it even more reusable, we can mix that with subclassing:"
   ]
  },
  {
   "cell_type": "code",
   "execution_count": 18,
   "metadata": {},
   "outputs": [],
   "source": [
    "class NameAsString(enum.Enum):\n",
    "    def _generate_next_value_(name, start, count, last_value):\n",
    "        return name.lower()"
   ]
  },
  {
   "cell_type": "code",
   "execution_count": 21,
   "metadata": {},
   "outputs": [],
   "source": [
    "class State(NameAsString):\n",
    "    WAITING = enum.auto()\n",
    "    STARTED = enum.auto()\n",
    "    FINISHED = enum.auto()"
   ]
  },
  {
   "cell_type": "code",
   "execution_count": 22,
   "metadata": {},
   "outputs": [
    {
     "data": {
      "text/plain": [
       "[<State.WAITING: 'waiting'>,\n",
       " <State.STARTED: 'started'>,\n",
       " <State.FINISHED: 'finished'>]"
      ]
     },
     "execution_count": 22,
     "metadata": {},
     "output_type": "execute_result"
    }
   ],
   "source": [
    "list(State)"
   ]
  },
  {
   "cell_type": "code",
   "execution_count": 27,
   "metadata": {},
   "outputs": [],
   "source": [
    "class State(enum.Enum):\n",
    "    \"\"\"Please do not use member values - these are maningles and subject to change\"\"\"\n",
    "    Waiting = 1 \n",
    "    Running = 2 \n",
    "    Finished = 3 "
   ]
  },
  {
   "cell_type": "code",
   "execution_count": 30,
   "metadata": {},
   "outputs": [
    {
     "data": {
      "text/plain": [
       "(<State.Waiting: 1>, <State.Waiting: 1>)"
      ]
     },
     "execution_count": 30,
     "metadata": {},
     "output_type": "execute_result"
    }
   ],
   "source": [
    "State.Waiting, State['Waiting']"
   ]
  },
  {
   "cell_type": "code",
   "execution_count": 31,
   "metadata": {},
   "outputs": [
    {
     "data": {
      "text/plain": [
       "<State.Waiting: 1>"
      ]
     },
     "execution_count": 31,
     "metadata": {},
     "output_type": "execute_result"
    }
   ],
   "source": [
    "State(1) # but the user still can pushes using ghe value"
   ]
  },
  {
   "cell_type": "code",
   "execution_count": 32,
   "metadata": {},
   "outputs": [],
   "source": [
    "class State(enum.Enum):\n",
    "    Waiting = object()\n",
    "    Running = object()\n",
    "    Finished = object()"
   ]
  },
  {
   "cell_type": "markdown",
   "metadata": {},
   "source": [
    "This way, the values are meaningless. We're only intrusted in the keys, in the names, so we're avoiding using the values"
   ]
  },
  {
   "cell_type": "code",
   "execution_count": 34,
   "metadata": {},
   "outputs": [
    {
     "data": {
      "text/plain": [
       "(<State.Waiting: <object object at 0x000001E97F4288C0>>,\n",
       " <State.Finished: <object object at 0x000001E97F4286B0>>)"
      ]
     },
     "execution_count": 34,
     "metadata": {},
     "output_type": "execute_result"
    }
   ],
   "source": [
    "State.Waiting, State['Finished']"
   ]
  },
  {
   "cell_type": "code",
   "execution_count": 35,
   "metadata": {},
   "outputs": [
    {
     "name": "stdout",
     "output_type": "stream",
     "text": [
      "count=3\n",
      "count=4\n",
      "count=5\n"
     ]
    }
   ],
   "source": [
    "class Aliased(enum.Enum):\n",
    "    def _generate_next_value_(name, start, count, last_values):\n",
    "        print(f\"count={count}\")\n",
    "        if count % 2 == 1: # odd number \n",
    "            # make this member an alies of the previous one\n",
    "            return last_values[-1]\n",
    "        else:\n",
    "            return last_values[-1] + 1 #never use auto for the first element\n",
    "        \n",
    "    GREEN = 1 \n",
    "    GREEN_ALIAS = 1 \n",
    "    RED = 10 \n",
    "    CRIMSON = enum.auto()\n",
    "    BLUE = enum.auto()\n",
    "    AQUA = enum.auto()"
   ]
  },
  {
   "cell_type": "code",
   "execution_count": 36,
   "metadata": {},
   "outputs": [
    {
     "data": {
      "text/plain": [
       "[<Aliased.GREEN: 1>, <Aliased.RED: 10>, <Aliased.BLUE: 11>]"
      ]
     },
     "execution_count": 36,
     "metadata": {},
     "output_type": "execute_result"
    }
   ],
   "source": [
    "list(Aliased)"
   ]
  },
  {
   "cell_type": "code",
   "execution_count": 37,
   "metadata": {},
   "outputs": [
    {
     "data": {
      "text/plain": [
       "mappingproxy({'GREEN': <Aliased.GREEN: 1>,\n",
       "              'GREEN_ALIAS': <Aliased.GREEN: 1>,\n",
       "              'RED': <Aliased.RED: 10>,\n",
       "              'CRIMSON': <Aliased.RED: 10>,\n",
       "              'BLUE': <Aliased.BLUE: 11>,\n",
       "              'AQUA': <Aliased.BLUE: 11>})"
      ]
     },
     "execution_count": 37,
     "metadata": {},
     "output_type": "execute_result"
    }
   ],
   "source": [
    "Aliased.__members__"
   ]
  }
 ],
 "metadata": {
  "kernelspec": {
   "display_name": "Python 3",
   "language": "python",
   "name": "python3"
  },
  "language_info": {
   "codemirror_mode": {
    "name": "ipython",
    "version": 3
   },
   "file_extension": ".py",
   "mimetype": "text/x-python",
   "name": "python",
   "nbconvert_exporter": "python",
   "pygments_lexer": "ipython3",
   "version": "3.10.11"
  }
 },
 "nbformat": 4,
 "nbformat_minor": 2
}
