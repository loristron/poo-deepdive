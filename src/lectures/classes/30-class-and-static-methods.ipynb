{
 "cells": [
  {
   "cell_type": "markdown",
   "metadata": {},
   "source": [
    "# Class and Static Methods"
   ]
  },
  {
   "cell_type": "markdown",
   "metadata": {},
   "source": [
    "## General Purpose"
   ]
  },
  {
   "cell_type": "code",
   "execution_count": 12,
   "metadata": {},
   "outputs": [],
   "source": [
    "class MyClass:\n",
    "    def __init__(self):\n",
    "        print('initializing...')\n",
    "\n",
    "    def hello():\n",
    "        print('saying hello')\n",
    "    \n",
    "    def instance_helo(self):\n",
    "        print(f'{self} says hello')\n",
    "    \n",
    "    @classmethod\n",
    "    def class_hello(self):\n",
    "        print(f'hello from {self}')"
   ]
  },
  {
   "cell_type": "code",
   "execution_count": 13,
   "metadata": {},
   "outputs": [
    {
     "name": "stdout",
     "output_type": "stream",
     "text": [
      "initializing...\n"
     ]
    }
   ],
   "source": [
    "mc = MyClass()"
   ]
  },
  {
   "cell_type": "code",
   "execution_count": 14,
   "metadata": {},
   "outputs": [
    {
     "ename": "TypeError",
     "evalue": "MyClass.hello() takes 0 positional arguments but 1 was given",
     "output_type": "error",
     "traceback": [
      "\u001b[1;31m---------------------------------------------------------------------------\u001b[0m",
      "\u001b[1;31mTypeError\u001b[0m                                 Traceback (most recent call last)",
      "Cell \u001b[1;32mIn[14], line 1\u001b[0m\n\u001b[1;32m----> 1\u001b[0m \u001b[43mmc\u001b[49m\u001b[38;5;241;43m.\u001b[39;49m\u001b[43mhello\u001b[49m\u001b[43m(\u001b[49m\u001b[43m)\u001b[49m\n",
      "\u001b[1;31mTypeError\u001b[0m: MyClass.hello() takes 0 positional arguments but 1 was given"
     ]
    }
   ],
   "source": [
    "mc.hello()"
   ]
  },
  {
   "cell_type": "code",
   "execution_count": 15,
   "metadata": {},
   "outputs": [
    {
     "name": "stdout",
     "output_type": "stream",
     "text": [
      "<__main__.MyClass object at 0x0000022DA6159EA0> says hello\n"
     ]
    }
   ],
   "source": [
    "mc.instance_helo()"
   ]
  },
  {
   "cell_type": "code",
   "execution_count": 16,
   "metadata": {},
   "outputs": [
    {
     "name": "stdout",
     "output_type": "stream",
     "text": [
      "hello from <class '__main__.MyClass'>\n"
     ]
    }
   ],
   "source": [
    "mc.class_hello()"
   ]
  },
  {
   "cell_type": "code",
   "execution_count": 17,
   "metadata": {},
   "outputs": [
    {
     "name": "stdout",
     "output_type": "stream",
     "text": [
      "hello from <class '__main__.MyClass'>\n"
     ]
    }
   ],
   "source": [
    "MyClass.class_hello()"
   ]
  },
  {
   "cell_type": "code",
   "execution_count": 18,
   "metadata": {},
   "outputs": [
    {
     "name": "stdout",
     "output_type": "stream",
     "text": [
      "saying hello\n"
     ]
    }
   ],
   "source": [
    "MyClass.hello()"
   ]
  },
  {
   "cell_type": "code",
   "execution_count": 19,
   "metadata": {},
   "outputs": [
    {
     "data": {
      "text/plain": [
       "(<function __main__.MyClass.hello()>,\n",
       " <function __main__.MyClass.instance_helo(self)>,\n",
       " <bound method MyClass.class_hello of <class '__main__.MyClass'>>)"
      ]
     },
     "execution_count": 19,
     "metadata": {},
     "output_type": "execute_result"
    }
   ],
   "source": [
    "MyClass.hello, MyClass.instance_helo, MyClass.class_hello"
   ]
  },
  {
   "cell_type": "code",
   "execution_count": 20,
   "metadata": {},
   "outputs": [
    {
     "data": {
      "text/plain": [
       "(<bound method MyClass.hello of <__main__.MyClass object at 0x0000022DA6159EA0>>,\n",
       " <bound method MyClass.instance_helo of <__main__.MyClass object at 0x0000022DA6159EA0>>,\n",
       " <bound method MyClass.class_hello of <class '__main__.MyClass'>>)"
      ]
     },
     "execution_count": 20,
     "metadata": {},
     "output_type": "execute_result"
    }
   ],
   "source": [
    "mc.hello, mc.instance_helo, mc.class_hello"
   ]
  },
  {
   "cell_type": "code",
   "execution_count": 27,
   "metadata": {},
   "outputs": [],
   "source": [
    "class MyClass:\n",
    "    def __init__(self):\n",
    "        print('initializing...')\n",
    "\n",
    "    def hello():\n",
    "        print('saying hello')\n",
    "    \n",
    "    def instance_helo(self):\n",
    "        print(f'{self} says hello')\n",
    "    \n",
    "    @classmethod\n",
    "    def class_hello(cls):\n",
    "        print(f'hello from {cls}')\n",
    "\n",
    "    @staticmethod\n",
    "    def static_hello():\n",
    "        print('static method called')"
   ]
  },
  {
   "cell_type": "code",
   "execution_count": 22,
   "metadata": {},
   "outputs": [
    {
     "name": "stdout",
     "output_type": "stream",
     "text": [
      "initializing...\n"
     ]
    }
   ],
   "source": [
    "mc = MyClass()"
   ]
  },
  {
   "cell_type": "code",
   "execution_count": 25,
   "metadata": {},
   "outputs": [
    {
     "name": "stdout",
     "output_type": "stream",
     "text": [
      "static method called\n",
      "static method called\n"
     ]
    },
    {
     "data": {
      "text/plain": [
       "(None, None)"
      ]
     },
     "execution_count": 25,
     "metadata": {},
     "output_type": "execute_result"
    }
   ],
   "source": [
    "mc.static_hello(), MyClass.static_hello()"
   ]
  },
  {
   "cell_type": "code",
   "execution_count": 26,
   "metadata": {},
   "outputs": [
    {
     "data": {
      "text/plain": [
       "(<function __main__.MyClass.static_hello()>,\n",
       " <function __main__.MyClass.static_hello()>)"
      ]
     },
     "execution_count": 26,
     "metadata": {},
     "output_type": "execute_result"
    }
   ],
   "source": [
    "mc.static_hello, MyClass.static_hello"
   ]
  },
  {
   "cell_type": "markdown",
   "metadata": {},
   "source": [
    "## Practical Purpose"
   ]
  },
  {
   "cell_type": "code",
   "execution_count": 30,
   "metadata": {},
   "outputs": [],
   "source": [
    "from datetime import datetime, timezone, timedelta"
   ]
  },
  {
   "cell_type": "code",
   "execution_count": 31,
   "metadata": {},
   "outputs": [],
   "source": [
    "class Timer:\n",
    "    tz = timezone.utc\n",
    "\n",
    "    @classmethod\n",
    "    def set_timezone(cls, offset, name):\n",
    "        cls.tz = timezone(timedelta(hours=offset), name=name)"
   ]
  },
  {
   "cell_type": "code",
   "execution_count": 32,
   "metadata": {},
   "outputs": [],
   "source": [
    "Timer.set_timezone(-3, 'BR')"
   ]
  },
  {
   "cell_type": "code",
   "execution_count": 34,
   "metadata": {},
   "outputs": [
    {
     "data": {
      "text/plain": [
       "datetime.timezone(datetime.timedelta(days=-1, seconds=75600), 'BR')"
      ]
     },
     "execution_count": 34,
     "metadata": {},
     "output_type": "execute_result"
    }
   ],
   "source": [
    "Timer.tz"
   ]
  },
  {
   "cell_type": "code",
   "execution_count": 33,
   "metadata": {},
   "outputs": [
    {
     "data": {
      "text/plain": [
       "(datetime.timezone(datetime.timedelta(days=-1, seconds=75600), 'BR'),\n",
       " datetime.timezone(datetime.timedelta(days=-1, seconds=75600), 'BR'))"
      ]
     },
     "execution_count": 33,
     "metadata": {},
     "output_type": "execute_result"
    }
   ],
   "source": [
    "t1 = Timer()\n",
    "t2 = Timer()\n",
    "\n",
    "t1.tz, t2.tz"
   ]
  },
  {
   "cell_type": "code",
   "execution_count": 35,
   "metadata": {},
   "outputs": [
    {
     "data": {
      "text/plain": [
       "(datetime.timezone(datetime.timedelta(days=-1, seconds=72000), 'FERNANDO DE NORONHA'),\n",
       " datetime.timezone(datetime.timedelta(days=-1, seconds=72000), 'FERNANDO DE NORONHA'))"
      ]
     },
     "execution_count": 35,
     "metadata": {},
     "output_type": "execute_result"
    }
   ],
   "source": [
    "Timer.set_timezone(-4, 'FERNANDO DE NORONHA')\n",
    "\n",
    "t1.tz, t2.tz"
   ]
  },
  {
   "cell_type": "code",
   "execution_count": 36,
   "metadata": {},
   "outputs": [],
   "source": [
    "class Timer:\n",
    "    tz = timezone.utc\n",
    "\n",
    "    @classmethod\n",
    "    def set_timezone(cls, offset, name):\n",
    "        cls.tz = timezone(timedelta(hours=offset), name=name)\n",
    "\n",
    "    @staticmethod\n",
    "    def current_dt_utc():\n",
    "        return datetime.now(timezone.utc)"
   ]
  },
  {
   "cell_type": "code",
   "execution_count": 38,
   "metadata": {},
   "outputs": [
    {
     "data": {
      "text/plain": [
       "(datetime.datetime(2024, 11, 2, 20, 5, 14, 394209, tzinfo=datetime.timezone.utc),\n",
       " datetime.datetime(2024, 11, 2, 20, 5, 14, 394209, tzinfo=datetime.timezone.utc))"
      ]
     },
     "execution_count": 38,
     "metadata": {},
     "output_type": "execute_result"
    }
   ],
   "source": [
    "t = Timer()\n",
    "t.current_dt_utc(), Timer.current_dt_utc()"
   ]
  },
  {
   "cell_type": "code",
   "execution_count": 39,
   "metadata": {},
   "outputs": [],
   "source": [
    "class Timer:\n",
    "    tz = timezone.utc\n",
    "\n",
    "    @classmethod\n",
    "    def set_timezone(cls, offset, name):\n",
    "        cls.tz = timezone(timedelta(hours=offset), name=name)\n",
    "\n",
    "    @staticmethod\n",
    "    def current_dt_utc():\n",
    "        return datetime.now(timezone.utc)\n",
    "    \n",
    "    @classmethod\n",
    "    def current_dt(cls):\n",
    "        return datetime.now(cls.tz)"
   ]
  },
  {
   "cell_type": "code",
   "execution_count": 40,
   "metadata": {},
   "outputs": [
    {
     "data": {
      "text/plain": [
       "(datetime.datetime(2024, 11, 2, 20, 6, 56, 112667, tzinfo=datetime.timezone.utc),\n",
       " datetime.datetime(2024, 11, 2, 20, 6, 56, 112667, tzinfo=datetime.timezone.utc))"
      ]
     },
     "execution_count": 40,
     "metadata": {},
     "output_type": "execute_result"
    }
   ],
   "source": [
    "Timer.current_dt_utc(), Timer.current_dt()"
   ]
  },
  {
   "cell_type": "code",
   "execution_count": 41,
   "metadata": {},
   "outputs": [
    {
     "data": {
      "text/plain": [
       "(datetime.datetime(2024, 11, 2, 20, 8, 13, 603217, tzinfo=datetime.timezone.utc),\n",
       " datetime.datetime(2024, 11, 2, 20, 8, 13, 603217, tzinfo=datetime.timezone.utc))"
      ]
     },
     "execution_count": 41,
     "metadata": {},
     "output_type": "execute_result"
    }
   ],
   "source": [
    "t1 = Timer()\n",
    "t2 = Timer()\n",
    "\n",
    "t1.current_dt_utc(), t1.current_dt()"
   ]
  },
  {
   "cell_type": "code",
   "execution_count": 43,
   "metadata": {},
   "outputs": [
    {
     "data": {
      "text/plain": [
       "(datetime.timezone(datetime.timedelta(days=-1, seconds=61200), 'MST'),\n",
       " datetime.timezone(datetime.timedelta(days=-1, seconds=61200), 'MST'),\n",
       " datetime.timezone(datetime.timedelta(days=-1, seconds=61200), 'MST'))"
      ]
     },
     "execution_count": 43,
     "metadata": {},
     "output_type": "execute_result"
    }
   ],
   "source": [
    "t2.set_timezone(-7, 'MST')\n",
    "\n",
    "t1.tz, t2.tz, Timer.tz"
   ]
  },
  {
   "cell_type": "code",
   "execution_count": 44,
   "metadata": {},
   "outputs": [
    {
     "data": {
      "text/plain": [
       "({}, {})"
      ]
     },
     "execution_count": 44,
     "metadata": {},
     "output_type": "execute_result"
    }
   ],
   "source": [
    "t1.__dict__, t2.__dict__"
   ]
  },
  {
   "cell_type": "code",
   "execution_count": 47,
   "metadata": {},
   "outputs": [],
   "source": [
    "class TimerErorr(Exception):\n",
    "    \"\"\"A custom exception used for Timer class\"\"\""
   ]
  },
  {
   "cell_type": "markdown",
   "metadata": {},
   "source": [
    "#### Timer complete class "
   ]
  },
  {
   "cell_type": "code",
   "execution_count": 61,
   "metadata": {},
   "outputs": [],
   "source": [
    "class Timer:\n",
    "    tz = timezone.utc\n",
    "\n",
    "    @classmethod\n",
    "    def set_timezone(cls, offset, name):\n",
    "        cls.tz = timezone(timedelta(hours=offset), name=name)\n",
    "\n",
    "    @staticmethod\n",
    "    def current_dt_utc():\n",
    "        return datetime.now(timezone.utc)\n",
    "    \n",
    "    @classmethod\n",
    "    def current_dt(cls):\n",
    "        return datetime.now(cls.tz)\n",
    "    \n",
    "    def start(self):\n",
    "        self._time_start = self.current_dt_utc()\n",
    "        self._end_time = None\n",
    "\n",
    "    def stop(self):\n",
    "        if self._time_start is None:\n",
    "            raise TimerErorr('Timer must be started before if can be stopped')\n",
    "        self._end_time = self.current_dt_utc()\n",
    "\n",
    "    @property\n",
    "    def start_time(self):\n",
    "        if self._time_start is None:\n",
    "            raise TimerErorr('Timer has not been started')\n",
    "        return self._time_start.astimezone(self.tz)\n",
    "    \n",
    "    @property\n",
    "    def end_time(self):\n",
    "        if self._end_time is None:\n",
    "            raise TimerErorr('Timer ahs not been stopped')\n",
    "        return self._end_time.astimezone(self.tz)\n",
    "    \n",
    "    @property\n",
    "    def elapsed(self):\n",
    "        if self._time_start is None:\n",
    "            raise TimerErorr('Timer has never been started.')\n",
    "        \n",
    "        if self._end_time is None:\n",
    "            elapsed_time = self.current_dt_utc() - self._time_start\n",
    "        else:\n",
    "            elapsed_time = self._end_time - self._time_start\n",
    "        \n",
    "        return elapsed_time.total_seconds()"
   ]
  },
  {
   "cell_type": "code",
   "execution_count": 62,
   "metadata": {},
   "outputs": [
    {
     "name": "stdout",
     "output_type": "stream",
     "text": [
      "start-time=2024-11-02 20:22:33.409638+00:00 \t end-time=2024-11-02 20:22:35.415252+00:00 \t elapsed=2.005614 seconds\n"
     ]
    }
   ],
   "source": [
    "from time import sleep \n",
    "\n",
    "t1 = Timer()\n",
    "\n",
    "t1.start()\n",
    "sleep(2)\n",
    "t1.stop()\n",
    "\n",
    "print(f'start-time={t1.start_time} \\t end-time={t1.end_time} \\t elapsed={t1.elapsed} seconds')\n"
   ]
  },
  {
   "cell_type": "code",
   "execution_count": 63,
   "metadata": {},
   "outputs": [
    {
     "name": "stdout",
     "output_type": "stream",
     "text": [
      "start-time=2024-11-02 17:23:35.108499-03:00 \t end-time=2024-11-02 17:23:37.112932-03:00 \t elapsed=2.004433 seconds\n"
     ]
    }
   ],
   "source": [
    "t2 = Timer()\n",
    "t2.set_timezone(-3, 'BRASIL')\n",
    "\n",
    "t2.start()\n",
    "sleep(2)\n",
    "t2.stop()\n",
    "print(f'start-time={t2.start_time} \\t end-time={t2.end_time} \\t elapsed={t2.elapsed} seconds')\n"
   ]
  },
  {
   "cell_type": "code",
   "execution_count": 65,
   "metadata": {},
   "outputs": [
    {
     "name": "stdout",
     "output_type": "stream",
     "text": [
      "start-time=2024-11-02 16:22:33.409638-04:00 \t end-time=2024-11-02 16:22:35.415252-04:00 \t elapsed=2.005614 seconds\n",
      "start-time=2024-11-02 16:23:35.108499-04:00 \t end-time=2024-11-02 16:23:37.112932-04:00 \t elapsed=2.004433 seconds\n"
     ]
    }
   ],
   "source": [
    "Timer.set_timezone(-4, 'MANAUS')\n",
    "print(f'start-time={t1.start_time} \\t end-time={t1.end_time} \\t elapsed={t1.elapsed} seconds')\n",
    "print(f'start-time={t2.start_time} \\t end-time={t2.end_time} \\t elapsed={t2.elapsed} seconds')"
   ]
  }
 ],
 "metadata": {
  "kernelspec": {
   "display_name": "Python 3",
   "language": "python",
   "name": "python3"
  },
  "language_info": {
   "codemirror_mode": {
    "name": "ipython",
    "version": 3
   },
   "file_extension": ".py",
   "mimetype": "text/x-python",
   "name": "python",
   "nbconvert_exporter": "python",
   "pygments_lexer": "ipython3",
   "version": "3.10.11"
  }
 },
 "nbformat": 4,
 "nbformat_minor": 2
}
