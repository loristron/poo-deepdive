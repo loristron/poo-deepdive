{
 "cells": [
  {
   "cell_type": "markdown",
   "metadata": {},
   "source": [
    "# Modular Arithmetic\n",
    "\n",
    "Implement special Mod class to implement some concepts in modular arithmetic\n",
    "\n",
    "Assume that `n` is a __positive integer__\n",
    "Assume all numbers are integers\n",
    "The residue of a number modulo n is simply `a % n`\n",
    "\n",
    "Two numbers, `a` and `b` are said to be *congruent modulo*`n`: `a = b (mod n)`\n",
    "- If their residues are equal: `a % n == b % n`"
   ]
  },
  {
   "cell_type": "markdown",
   "metadata": {},
   "source": [
    "## Project specifications"
   ]
  },
  {
   "cell_type": "markdown",
   "metadata": {},
   "source": [
    "Create a class called `Mod`\n",
    "\n",
    "Initialize with `value` and `modulus` arguments\n",
    "\n",
    "- Ensure that `modulus` and `value` are both integers\n",
    "\n",
    "- Moreover, `modulus` should pe positive\n",
    "\n",
    "- Make `value` and `modulus` read-only\n",
    "\n",
    "Store the `value` as the *residue*\n",
    "\n",
    "- If `value = 8` and `modulus = 2`, store `value` as `2`, as `8 % 3 = 2` \n",
    "\n",
    "Implement congruence for the `==` operator\n",
    "- Allow comparison of a `Mod` object to a `int` object in which case use the residue of the `int`\n",
    "- Allow the comparision of two `Mod` object only if they have the __same modulus__\n",
    "\n",
    "Ensure objects remain hashable\n",
    "\n",
    "Provide implemenation so that `int(mod_object)` will return the residue\n",
    "\n",
    "Provide proper representation (`__repr__`)\n",
    "\n",
    "Implement the operators +, -, * and **\n",
    "\n",
    "- Support the other operando to be `Mod` (with same modulus only)\n",
    "- Support other operand to be integer (and use the same modulus) \n",
    "- Always return `Mod`instance \n",
    "- perfor the operation on the value\n",
    "\n",
    "Example: \n",
    "\n",
    "`Mod(2, 3) + 16 -> Mod(2 + 16, 3) -> Mod(0, 3)`\n",
    "\n",
    "Implement the corresponding *in-place* arithmetic operators (+=, -=)\n",
    "\n",
    "Implement ordering\n",
    "\n",
    "- Support other operando to be a `Mod` (with the same modulus) or an integer"
   ]
  },
  {
   "cell_type": "markdown",
   "metadata": {},
   "source": [
    "## Solution"
   ]
  },
  {
   "cell_type": "markdown",
   "metadata": {},
   "source": [
    "#### Pytest installation"
   ]
  },
  {
   "cell_type": "code",
   "execution_count": 1,
   "metadata": {},
   "outputs": [
    {
     "name": "stdout",
     "output_type": "stream",
     "text": [
      "Requirement already satisfied: ipytest in c:\\users\\loris\\appdata\\local\\packages\\pythonsoftwarefoundation.python.3.10_qbz5n2kfra8p0\\localcache\\local-packages\\python310\\site-packages (0.14.2)\n",
      "Requirement already satisfied: packaging in c:\\users\\loris\\appdata\\local\\packages\\pythonsoftwarefoundation.python.3.10_qbz5n2kfra8p0\\localcache\\local-packages\\python310\\site-packages (from ipytest) (24.1)\n",
      "Requirement already satisfied: pytest>=5.4 in c:\\users\\loris\\appdata\\local\\packages\\pythonsoftwarefoundation.python.3.10_qbz5n2kfra8p0\\localcache\\local-packages\\python310\\site-packages (from ipytest) (8.3.3)\n",
      "Requirement already satisfied: ipython in c:\\users\\loris\\appdata\\local\\packages\\pythonsoftwarefoundation.python.3.10_qbz5n2kfra8p0\\localcache\\local-packages\\python310\\site-packages (from ipytest) (8.28.0)\n",
      "Requirement already satisfied: colorama in c:\\users\\loris\\appdata\\local\\packages\\pythonsoftwarefoundation.python.3.10_qbz5n2kfra8p0\\localcache\\local-packages\\python310\\site-packages (from pytest>=5.4->ipytest) (0.4.6)\n",
      "Requirement already satisfied: pluggy<2,>=1.5 in c:\\users\\loris\\appdata\\local\\packages\\pythonsoftwarefoundation.python.3.10_qbz5n2kfra8p0\\localcache\\local-packages\\python310\\site-packages (from pytest>=5.4->ipytest) (1.5.0)\n",
      "Requirement already satisfied: tomli>=1 in c:\\users\\loris\\appdata\\local\\packages\\pythonsoftwarefoundation.python.3.10_qbz5n2kfra8p0\\localcache\\local-packages\\python310\\site-packages (from pytest>=5.4->ipytest) (2.0.2)\n",
      "Requirement already satisfied: exceptiongroup>=1.0.0rc8 in c:\\users\\loris\\appdata\\local\\packages\\pythonsoftwarefoundation.python.3.10_qbz5n2kfra8p0\\localcache\\local-packages\\python310\\site-packages (from pytest>=5.4->ipytest) (1.2.2)\n",
      "Requirement already satisfied: iniconfig in c:\\users\\loris\\appdata\\local\\packages\\pythonsoftwarefoundation.python.3.10_qbz5n2kfra8p0\\localcache\\local-packages\\python310\\site-packages (from pytest>=5.4->ipytest) (2.0.0)\n",
      "Requirement already satisfied: matplotlib-inline in c:\\users\\loris\\appdata\\local\\packages\\pythonsoftwarefoundation.python.3.10_qbz5n2kfra8p0\\localcache\\local-packages\\python310\\site-packages (from ipython->ipytest) (0.1.7)\n",
      "Requirement already satisfied: traitlets>=5.13.0 in c:\\users\\loris\\appdata\\local\\packages\\pythonsoftwarefoundation.python.3.10_qbz5n2kfra8p0\\localcache\\local-packages\\python310\\site-packages (from ipython->ipytest) (5.14.3)\n",
      "Requirement already satisfied: typing-extensions>=4.6 in c:\\users\\loris\\appdata\\local\\packages\\pythonsoftwarefoundation.python.3.10_qbz5n2kfra8p0\\localcache\\local-packages\\python310\\site-packages (from ipython->ipytest) (4.12.2)\n",
      "Requirement already satisfied: prompt-toolkit<3.1.0,>=3.0.41 in c:\\users\\loris\\appdata\\local\\packages\\pythonsoftwarefoundation.python.3.10_qbz5n2kfra8p0\\localcache\\local-packages\\python310\\site-packages (from ipython->ipytest) (3.0.48)\n",
      "Requirement already satisfied: jedi>=0.16 in c:\\users\\loris\\appdata\\local\\packages\\pythonsoftwarefoundation.python.3.10_qbz5n2kfra8p0\\localcache\\local-packages\\python310\\site-packages (from ipython->ipytest) (0.19.1)\n",
      "Requirement already satisfied: stack-data in c:\\users\\loris\\appdata\\local\\packages\\pythonsoftwarefoundation.python.3.10_qbz5n2kfra8p0\\localcache\\local-packages\\python310\\site-packages (from ipython->ipytest) (0.6.3)\n",
      "Requirement already satisfied: pygments>=2.4.0 in c:\\users\\loris\\appdata\\local\\packages\\pythonsoftwarefoundation.python.3.10_qbz5n2kfra8p0\\localcache\\local-packages\\python310\\site-packages (from ipython->ipytest) (2.18.0)\n",
      "Requirement already satisfied: decorator in c:\\users\\loris\\appdata\\local\\packages\\pythonsoftwarefoundation.python.3.10_qbz5n2kfra8p0\\localcache\\local-packages\\python310\\site-packages (from ipython->ipytest) (5.1.1)\n",
      "Requirement already satisfied: parso<0.9.0,>=0.8.3 in c:\\users\\loris\\appdata\\local\\packages\\pythonsoftwarefoundation.python.3.10_qbz5n2kfra8p0\\localcache\\local-packages\\python310\\site-packages (from jedi>=0.16->ipython->ipytest) (0.8.4)\n",
      "Requirement already satisfied: wcwidth in c:\\users\\loris\\appdata\\local\\packages\\pythonsoftwarefoundation.python.3.10_qbz5n2kfra8p0\\localcache\\local-packages\\python310\\site-packages (from prompt-toolkit<3.1.0,>=3.0.41->ipython->ipytest) (0.2.13)\n",
      "Requirement already satisfied: executing>=1.2.0 in c:\\users\\loris\\appdata\\local\\packages\\pythonsoftwarefoundation.python.3.10_qbz5n2kfra8p0\\localcache\\local-packages\\python310\\site-packages (from stack-data->ipython->ipytest) (2.1.0)\n",
      "Requirement already satisfied: pure-eval in c:\\users\\loris\\appdata\\local\\packages\\pythonsoftwarefoundation.python.3.10_qbz5n2kfra8p0\\localcache\\local-packages\\python310\\site-packages (from stack-data->ipython->ipytest) (0.2.3)\n",
      "Requirement already satisfied: asttokens>=2.1.0 in c:\\users\\loris\\appdata\\local\\packages\\pythonsoftwarefoundation.python.3.10_qbz5n2kfra8p0\\localcache\\local-packages\\python310\\site-packages (from stack-data->ipython->ipytest) (2.4.1)\n",
      "Requirement already satisfied: six>=1.12.0 in c:\\users\\loris\\appdata\\local\\packages\\pythonsoftwarefoundation.python.3.10_qbz5n2kfra8p0\\localcache\\local-packages\\python310\\site-packages (from asttokens>=2.1.0->stack-data->ipython->ipytest) (1.16.0)\n"
     ]
    },
    {
     "name": "stderr",
     "output_type": "stream",
     "text": [
      "\n",
      "[notice] A new release of pip is available: 23.0.1 -> 24.3.1\n",
      "[notice] To update, run: C:\\Users\\loris\\AppData\\Local\\Microsoft\\WindowsApps\\PythonSoftwareFoundation.Python.3.10_qbz5n2kfra8p0\\python.exe -m pip install --upgrade pip\n"
     ]
    }
   ],
   "source": [
    "!pip install ipytest\n",
    "import ipytest\n",
    "ipytest.autoconfig()"
   ]
  },
  {
   "cell_type": "markdown",
   "metadata": {},
   "source": [
    "### Mod class"
   ]
  },
  {
   "cell_type": "code",
   "execution_count": 2,
   "metadata": {},
   "outputs": [],
   "source": [
    "class Mod: \n",
    "    def __init__(self, value: int, modulus: int):\n",
    "\n",
    "        if not isinstance(value, int):\n",
    "            raise ValueError('Value provided must be an integer')\n",
    "        \n",
    "        if not isinstance(modulus, int):\n",
    "            raise ValueError('Modulos provided must be and integer')\n",
    "        \n",
    "        if modulus <= 0:\n",
    "            raise ValueError('Modulus should be positive and greater than zero')\n",
    "\n",
    "        self._value = value\n",
    "        self._modulus = modulus\n",
    "        self._residue = value % modulus\n",
    "\n",
    "    @property\n",
    "    def value(self):\n",
    "        return self._value \n",
    "    \n",
    "    @property\n",
    "    def modulus(self):\n",
    "        return self._modulus\n",
    "    \n",
    "    @property\n",
    "    def residue(self):\n",
    "        return self._residue\n",
    "    \n",
    "    def validate_comparision_modules(self, other):\n",
    "        if not self.modulus == other.modulus:\n",
    "            raise ValueError('Mod arithmetic opperations must have same modulus values')\n",
    "        \n",
    "    def __eq__(self, value) -> bool:\n",
    "        if isinstance(value, int):\n",
    "            return self.residue == value\n",
    "\n",
    "        if isinstance(value, Mod):\n",
    "            self.validate_comparision_modules(other=value)\n",
    "            return self.residue == value.residue \n",
    "        \n",
    "        raise AttributeError('Comparission is only valid on Mod objects to each other and integer values')\n",
    "    \n",
    "    def __repr__(self):\n",
    "        return f\"Mod(value={self.value}, modulus={self.modulus}, residue={self.residue})\"\n",
    "    \n",
    "    def __hash__(self) -> int:\n",
    "        return hash(self.value + self.modulus + self.residue)\n",
    "    \n",
    "    def __int__(self):\n",
    "        return self.residue\n",
    "    \n",
    "    def __add__(self, other):\n",
    "        if isinstance(other, int):\n",
    "            return Mod(self.value + other, self.modulus)\n",
    "        \n",
    "        if isinstance(other, Mod):\n",
    "            self.validate_comparision_modules(other=other)\n",
    "            return Mod(self.value + other.value, self.modulus)\n",
    "        \n",
    "        raise AttributeError('Addition is only valid on Mod objects to each other and integer values')\n",
    "    \n",
    "    def __iadd__(self, other):\n",
    "        self = self + other \n",
    "        return self \n",
    "    \n",
    "    def __radd__(self, other):\n",
    "        return self + other \n",
    "    \n",
    "    def __sub__(self, other):\n",
    "        if isinstance(other, int):\n",
    "            return Mod(self.value - other, self.modulus)\n",
    "        \n",
    "        if isinstance(other, Mod):\n",
    "            self.validate_comparision_modules(other=other)\n",
    "            return Mod(self.value - other.value, self.modulus)\n",
    "        \n",
    "        raise AttributeError('Subtraction is only valid on Mod objects to each other and integer values')\n",
    "        \n",
    "    def __isub__(self, other):\n",
    "        self = self - other\n",
    "        return self\n",
    "    \n",
    "    def __rsub__(self, other):\n",
    "        if isinstance(other, int):\n",
    "            new_obj = Mod(other, self.modulus)\n",
    "            return new_obj - self\n",
    "        \n",
    "        return other - self \n",
    "    \n",
    "    def __mul__(self, other):\n",
    "        if isinstance(other, int):\n",
    "            return Mod(self.value * other, self.modulus)\n",
    "        \n",
    "        if isinstance(other, Mod):\n",
    "            self.validate_comparision_modules(other=other)\n",
    "            return Mod(self.value * other.value, self.modulus)\n",
    "        \n",
    "        raise AttributeError('Multiplication is only valid on Mod objects to each other and integer values')\n",
    "    \n",
    "    def __imul__(self, other):\n",
    "        self = self * other \n",
    "        return self \n",
    "    \n",
    "    def __rmul__(self, other):\n",
    "        return self * other  \n",
    "    \n",
    "    def __pow__(self, other):\n",
    "        if isinstance(other, int):\n",
    "            return Mod(self.value ** other, self.modulus)\n",
    "        \n",
    "        if isinstance(other, Mod):\n",
    "            self.validate_comparision_modules(other)\n",
    "            return Mod(self.value ** other.value, self.modulus)\n",
    "        \n",
    "        raise AttributeError('Pow is only valid on Mod objects to each other and integer values')\n",
    "    \n",
    "    def __rpow__(self, other):\n",
    "        return self ** other"
   ]
  },
  {
   "cell_type": "code",
   "execution_count": 3,
   "metadata": {},
   "outputs": [
    {
     "data": {
      "text/plain": [
       "Mod(value=64, modulus=3, residue=1)"
      ]
     },
     "execution_count": 3,
     "metadata": {},
     "output_type": "execute_result"
    }
   ],
   "source": [
    "obj = Mod(8, 3)\n",
    "ob3 = 2 ** obj\n",
    "ob3"
   ]
  },
  {
   "cell_type": "code",
   "execution_count": 4,
   "metadata": {},
   "outputs": [
    {
     "data": {
      "text/plain": [
       "Mod(value=10, modulus=3, residue=1)"
      ]
     },
     "execution_count": 4,
     "metadata": {},
     "output_type": "execute_result"
    }
   ],
   "source": [
    "obj = Mod(8, 3)\n",
    "obj += 2\n",
    "obj"
   ]
  },
  {
   "cell_type": "markdown",
   "metadata": {},
   "source": [
    "### Tests"
   ]
  },
  {
   "cell_type": "markdown",
   "metadata": {},
   "source": [
    "#### Modulus creation"
   ]
  },
  {
   "cell_type": "code",
   "execution_count": 5,
   "metadata": {},
   "outputs": [],
   "source": [
    "def test_good_mod_creation():\n",
    "    obj = Mod(1, 2)\n",
    "    if isinstance(obj, Mod):\n",
    "        assert True\n",
    "\n",
    "def test_value_not_integer():\n",
    "    try:\n",
    "        obj = Mod('a', 3)\n",
    "    except ValueError:\n",
    "        assert True \n",
    "\n",
    "def test_modulos_not_integer():\n",
    "    try:\n",
    "        obj = Mod(-3, 'A')\n",
    "    except ValueError:\n",
    "        assert True \n",
    "\n",
    "def test_modulos_not_positive():\n",
    "    try:\n",
    "        obj = Mod(-3, -1)\n",
    "    except ValueError:\n",
    "        assert True\n",
    "    \n",
    "def test_modulos_equal_zero():\n",
    "    try:\n",
    "        obj = Mod(3, 0)\n",
    "    except ValueError:\n",
    "        assert True "
   ]
  },
  {
   "cell_type": "markdown",
   "metadata": {},
   "source": [
    "#### Read Only properties"
   ]
  },
  {
   "cell_type": "code",
   "execution_count": 6,
   "metadata": {},
   "outputs": [],
   "source": [
    "def test_read_only_value():\n",
    "    obj = Mod(8, 3)\n",
    "    try:\n",
    "        obj.value = 3\n",
    "    except AttributeError:\n",
    "        assert True  \n",
    "\n",
    "def test_read_only_modulus():\n",
    "    obj = Mod(8, 3)\n",
    "    try:\n",
    "        obj.modulus = 3\n",
    "    except AttributeError:\n",
    "        assert True  \n"
   ]
  },
  {
   "cell_type": "markdown",
   "metadata": {},
   "source": [
    "#### Equality"
   ]
  },
  {
   "cell_type": "code",
   "execution_count": 7,
   "metadata": {},
   "outputs": [],
   "source": [
    "def test_integer_comparision():\n",
    "    obj = Mod(8, 3) # value == 2 \n",
    "    assert obj == 2\n",
    "\n",
    "def test_mod_invalid_comparision():\n",
    "    # Different modules \n",
    "    obj1 = Mod(8, 3)\n",
    "    obj2 = Mod(8, 2)\n",
    "\n",
    "    try:\n",
    "        ob3 = obj1 == obj2\n",
    "    except ValueError:\n",
    "        assert True \n",
    "\n",
    "def test_string_comparision():\n",
    "    obj = Mod(8, 3)\n",
    "    try:\n",
    "        ob2 = obj == 'Mod(value=8, modulus=3)'\n",
    "    except AttributeError:\n",
    "        assert True\n"
   ]
  },
  {
   "cell_type": "markdown",
   "metadata": {},
   "source": [
    "#### Hashing"
   ]
  },
  {
   "cell_type": "code",
   "execution_count": 8,
   "metadata": {},
   "outputs": [],
   "source": [
    "def test_mod_hashing():\n",
    "    try:\n",
    "        obj = Mod(8, 3)\n",
    "        d = {\n",
    "            obj: 'Object One'\n",
    "        }\n",
    "        assert True\n",
    "    except Exception:\n",
    "        assert False "
   ]
  },
  {
   "cell_type": "markdown",
   "metadata": {},
   "source": [
    "#### Integer parse"
   ]
  },
  {
   "cell_type": "code",
   "execution_count": 9,
   "metadata": {},
   "outputs": [],
   "source": [
    "def test_integer_parse():\n",
    "    obj = Mod(8, 3)\n",
    "    assert int(obj) == 2"
   ]
  },
  {
   "cell_type": "markdown",
   "metadata": {},
   "source": [
    "#### Addition"
   ]
  },
  {
   "cell_type": "code",
   "execution_count": 10,
   "metadata": {},
   "outputs": [],
   "source": [
    "def test_addition_integer():\n",
    "    obj = Mod(8, 3)\n",
    "    new_obj = obj + 2 \n",
    "    assert new_obj.value == 10 and new_obj.modulus == 3 and new_obj.residue == 1\n",
    "\n",
    "def test_invalid_mod_addition():\n",
    "    obj1 = Mod(8, 3)\n",
    "    obj2 = Mod(8, 2)\n",
    "    try:\n",
    "        obj3 = obj1 + obj2\n",
    "        assert False \n",
    "    except ValueError:\n",
    "        assert True \n",
    "\n",
    "def test_invalid_type_addition():\n",
    "    obj = Mod(8, 3)\n",
    "    try:\n",
    "        obj2 = obj + 'Hello World'\n",
    "        assert False\n",
    "    except AttributeError:\n",
    "        assert True\n",
    "\n",
    "def test_addition_mod():\n",
    "    obj1 = Mod(8, 3)\n",
    "    obj2 = Mod(2, 3)\n",
    "    obj3 = obj1 + obj2\n",
    "    assert obj3.value == 10 and obj3.modulus == 3 and obj3.residue == 1 \n",
    "\n",
    "def test_inline_addition_integer():\n",
    "    obj = Mod(8, 3)\n",
    "    obj += 2\n",
    "    assert obj.value == 10 and obj.modulus == 3 and obj.residue == 1 \n",
    "\n",
    "def test_inline_addition_mod():\n",
    "    m1 = Mod(2, 1)\n",
    "    m2 = Mod(3, 1)\n",
    "    m1 += m2 # m1 = m1 + m2 \n",
    "    assert m1.value == 5 and m1.modulus == 1 and m1.residue == 0\n",
    "\n",
    "def test_right_addition_integer():\n",
    "    obj = Mod(8, 3)\n",
    "    obj2 = 2 + obj\n",
    "    assert obj2.value == 10 and obj2.modulus == 3 and obj2.residue == 1"
   ]
  },
  {
   "cell_type": "markdown",
   "metadata": {},
   "source": [
    "#### Subtraction"
   ]
  },
  {
   "cell_type": "code",
   "execution_count": 11,
   "metadata": {},
   "outputs": [],
   "source": [
    "def test_integer_subtraction():\n",
    "    obj = Mod(8, 3)\n",
    "    result = obj - 2 \n",
    "    assert result.value == 6 and result.modulus == 3 and result.residue == 0 \n",
    "\n",
    "def test_mod_subtraction():\n",
    "    obj1 = Mod(8, 3)\n",
    "    obj2 = Mod(2, 3)\n",
    "    obj3 = obj1 - obj2\n",
    "    assert obj3.value == 6 and obj3.modulus == 3 and obj3.residue == 0 \n",
    "\n",
    "def test_invalid_mod_subtraction():\n",
    "    ob1 = Mod(8, 3)\n",
    "    ob2 = Mod(8 , 2)\n",
    "    try:\n",
    "        ob3 = ob1 - ob2\n",
    "        assert False \n",
    "    except ValueError:\n",
    "        assert True\n",
    "\n",
    "def test_invalid_type_subtraction():\n",
    "    obj = Mod(8, 3)\n",
    "    try:\n",
    "        obj2 = obj - 'Hello World'\n",
    "        assert False\n",
    "    except AttributeError:\n",
    "        assert True\n",
    "    \n",
    "def test_inline_mod_subtraction():\n",
    "    ob1 = Mod(8, 3)\n",
    "    ob2 = Mod(2, 3)\n",
    "    ob1 -= ob2 \n",
    "    assert ob1.value == 6 and ob1.modulus == 3 and ob1.residue == 0 \n",
    "\n",
    "def test_inline_integer_subtraction():\n",
    "    ob1 = Mod(8, 3)\n",
    "    ob1 -= 2 \n",
    "    assert ob1.value == 6 and ob1.modulus == 3 and ob1.residue == 0\n",
    "\n",
    "def test_right_integer_subtraction():\n",
    "    obj = Mod(8, 3)\n",
    "    obj2 = 4 - obj \n",
    "    assert obj2.value == -4 and obj2.modulus == 3 and obj2.residue == 2 "
   ]
  },
  {
   "cell_type": "markdown",
   "metadata": {},
   "source": [
    "#### Multiplication"
   ]
  },
  {
   "cell_type": "code",
   "execution_count": 12,
   "metadata": {},
   "outputs": [],
   "source": [
    "def test_integer_multiplication():\n",
    "    obj = Mod(4, 3)\n",
    "    obj2 = obj * 2 \n",
    "    assert obj2.value == 8 and obj2.modulus == 3 and obj2.residue == 2 \n",
    "\n",
    "def test_mod_multiplication():\n",
    "    obj1 = Mod(2, 3)\n",
    "    obj2 = Mod(4, 3)\n",
    "    obj3 = obj1 * obj2\n",
    "    assert obj3.value == 8 and obj3.modulus == 3 and obj3.residue == 2 \n",
    "\n",
    "def test_invalid_type_multiplication():\n",
    "    ob1 = Mod(8, 3)\n",
    "    try:\n",
    "        ob2 = ob1 * 'Hello'\n",
    "        assert False \n",
    "    except AttributeError:\n",
    "        assert True \n",
    "\n",
    "def test_invalid_mod_multiplication():\n",
    "    ob1 = Mod(8, 3)\n",
    "    ob2 = Mod(8, 2)\n",
    "    try:\n",
    "        ob3 = ob1 * ob2 \n",
    "        assert False \n",
    "    except ValueError:\n",
    "        assert True \n",
    "\n",
    "def test_inline_integer_multiplication():\n",
    "    ob1 = Mod(2, 3)\n",
    "    ob1 *= 2\n",
    "    assert ob1.value == 4 and ob1.modulus == 3 and ob1.residue == 1 \n",
    "\n",
    "def test_inline_mod_multiplication():\n",
    "    ob1 = Mod(4, 3)\n",
    "    ob2 = Mod(2, 3)\n",
    "    ob1 *= ob2  \n",
    "    assert ob1.value == 8 and ob1.modulus == 3 and ob1.residue == 2 "
   ]
  },
  {
   "cell_type": "markdown",
   "metadata": {},
   "source": [
    "#### Power"
   ]
  },
  {
   "cell_type": "code",
   "execution_count": 13,
   "metadata": {},
   "outputs": [],
   "source": [
    "def test_integer_power():\n",
    "    obj = Mod(2, 3)\n",
    "    ob2 = obj ** 2\n",
    "    assert ob2.value == 4 and ob2.modulus == 3 and ob2.residue == 1 \n",
    "\n",
    "def test_modular_power():\n",
    "    ob1 = Mod(2, 3)\n",
    "    ob2 = Mod(4, 3)\n",
    "    ob3 = ob1 ** ob2 \n",
    "    assert ob3.value == 16 and ob3.modulus == 3 and ob3.residue == 1 \n",
    "\n",
    "def test_modular_invalid_power():\n",
    "    ob1 = Mod(2, 3)\n",
    "    ob2 = Mod(4, 2)\n",
    "    try:\n",
    "        ob3 = ob1 ** ob2 \n",
    "        assert False \n",
    "    except ValueError:\n",
    "        assert True \n",
    "\n",
    "def test_invalid_type_power():\n",
    "    ob1 = Mod(2, 3)\n",
    "    d = dict()\n",
    "    try:\n",
    "        ob3 = ob1 ** d \n",
    "        assert False \n",
    "    except AttributeError:\n",
    "        assert True \n",
    "\n",
    "def test_integer_right_power():\n",
    "    obj = Mod(8, 3)\n",
    "    ob2 = 2 ** obj\n",
    "    assert ob2.value == 64 and ob2.modulus == 3 and ob2.residue == 1  "
   ]
  },
  {
   "cell_type": "markdown",
   "metadata": {},
   "source": [
    "#### Run tests"
   ]
  },
  {
   "cell_type": "code",
   "execution_count": 14,
   "metadata": {},
   "outputs": [
    {
     "name": "stdout",
     "output_type": "stream",
     "text": [
      "\u001b[1m======================================= test session starts =======================================\u001b[0m\n",
      "platform win32 -- Python 3.10.11, pytest-8.3.3, pluggy-1.5.0 -- C:\\Users\\loris\\AppData\\Local\\Microsoft\\WindowsApps\\PythonSoftwareFoundation.Python.3.10_qbz5n2kfra8p0\\python.exe\n",
      "cachedir: .pytest_cache\n",
      "rootdir: c:\\Users\\loris\\OneDrive\\Área de Trabalho\\loris\\poo-deepdive\\src\\projects\n",
      "\u001b[1mcollecting ... \u001b[0mcollected 37 items\n",
      "\n",
      "t_82fb28caebe640c2b85b72cb247a89fc.py::test_good_mod_creation \u001b[32mPASSED\u001b[0m\u001b[32m                         [  2%]\u001b[0m\n",
      "t_82fb28caebe640c2b85b72cb247a89fc.py::test_value_not_integer \u001b[32mPASSED\u001b[0m\u001b[32m                         [  5%]\u001b[0m\n",
      "t_82fb28caebe640c2b85b72cb247a89fc.py::test_modulos_not_integer \u001b[32mPASSED\u001b[0m\u001b[32m                       [  8%]\u001b[0m\n",
      "t_82fb28caebe640c2b85b72cb247a89fc.py::test_modulos_not_positive \u001b[32mPASSED\u001b[0m\u001b[32m                      [ 10%]\u001b[0m\n",
      "t_82fb28caebe640c2b85b72cb247a89fc.py::test_modulos_equal_zero \u001b[32mPASSED\u001b[0m\u001b[32m                        [ 13%]\u001b[0m\n",
      "t_82fb28caebe640c2b85b72cb247a89fc.py::test_read_only_value \u001b[32mPASSED\u001b[0m\u001b[32m                           [ 16%]\u001b[0m\n",
      "t_82fb28caebe640c2b85b72cb247a89fc.py::test_read_only_modulus \u001b[32mPASSED\u001b[0m\u001b[32m                         [ 18%]\u001b[0m\n",
      "t_82fb28caebe640c2b85b72cb247a89fc.py::test_integer_comparision \u001b[32mPASSED\u001b[0m\u001b[32m                       [ 21%]\u001b[0m\n",
      "t_82fb28caebe640c2b85b72cb247a89fc.py::test_mod_invalid_comparision \u001b[32mPASSED\u001b[0m\u001b[32m                   [ 24%]\u001b[0m\n",
      "t_82fb28caebe640c2b85b72cb247a89fc.py::test_string_comparision \u001b[32mPASSED\u001b[0m\u001b[32m                        [ 27%]\u001b[0m\n",
      "t_82fb28caebe640c2b85b72cb247a89fc.py::test_mod_hashing \u001b[32mPASSED\u001b[0m\u001b[32m                               [ 29%]\u001b[0m\n",
      "t_82fb28caebe640c2b85b72cb247a89fc.py::test_integer_parse \u001b[32mPASSED\u001b[0m\u001b[32m                             [ 32%]\u001b[0m\n",
      "t_82fb28caebe640c2b85b72cb247a89fc.py::test_addition_integer \u001b[32mPASSED\u001b[0m\u001b[32m                          [ 35%]\u001b[0m\n",
      "t_82fb28caebe640c2b85b72cb247a89fc.py::test_invalid_mod_addition \u001b[32mPASSED\u001b[0m\u001b[32m                      [ 37%]\u001b[0m\n",
      "t_82fb28caebe640c2b85b72cb247a89fc.py::test_invalid_type_addition \u001b[32mPASSED\u001b[0m\u001b[32m                     [ 40%]\u001b[0m\n",
      "t_82fb28caebe640c2b85b72cb247a89fc.py::test_addition_mod \u001b[32mPASSED\u001b[0m\u001b[32m                              [ 43%]\u001b[0m\n",
      "t_82fb28caebe640c2b85b72cb247a89fc.py::test_inline_addition_integer \u001b[32mPASSED\u001b[0m\u001b[32m                   [ 45%]\u001b[0m\n",
      "t_82fb28caebe640c2b85b72cb247a89fc.py::test_inline_addition_mod \u001b[32mPASSED\u001b[0m\u001b[32m                       [ 48%]\u001b[0m\n",
      "t_82fb28caebe640c2b85b72cb247a89fc.py::test_right_addition_integer \u001b[32mPASSED\u001b[0m\u001b[32m                    [ 51%]\u001b[0m\n",
      "t_82fb28caebe640c2b85b72cb247a89fc.py::test_integer_subtraction \u001b[32mPASSED\u001b[0m\u001b[32m                       [ 54%]\u001b[0m\n",
      "t_82fb28caebe640c2b85b72cb247a89fc.py::test_mod_subtraction \u001b[32mPASSED\u001b[0m\u001b[32m                           [ 56%]\u001b[0m\n",
      "t_82fb28caebe640c2b85b72cb247a89fc.py::test_invalid_mod_subtraction \u001b[32mPASSED\u001b[0m\u001b[32m                   [ 59%]\u001b[0m\n",
      "t_82fb28caebe640c2b85b72cb247a89fc.py::test_invalid_type_subtraction \u001b[32mPASSED\u001b[0m\u001b[32m                  [ 62%]\u001b[0m\n",
      "t_82fb28caebe640c2b85b72cb247a89fc.py::test_inline_mod_subtraction \u001b[32mPASSED\u001b[0m\u001b[32m                    [ 64%]\u001b[0m\n",
      "t_82fb28caebe640c2b85b72cb247a89fc.py::test_inline_integer_subtraction \u001b[32mPASSED\u001b[0m\u001b[32m                [ 67%]\u001b[0m\n",
      "t_82fb28caebe640c2b85b72cb247a89fc.py::test_right_integer_subtraction \u001b[32mPASSED\u001b[0m\u001b[32m                 [ 70%]\u001b[0m\n",
      "t_82fb28caebe640c2b85b72cb247a89fc.py::test_integer_multiplication \u001b[32mPASSED\u001b[0m\u001b[32m                    [ 72%]\u001b[0m\n",
      "t_82fb28caebe640c2b85b72cb247a89fc.py::test_mod_multiplication \u001b[32mPASSED\u001b[0m\u001b[32m                        [ 75%]\u001b[0m\n",
      "t_82fb28caebe640c2b85b72cb247a89fc.py::test_invalid_type_multiplication \u001b[32mPASSED\u001b[0m\u001b[32m               [ 78%]\u001b[0m\n",
      "t_82fb28caebe640c2b85b72cb247a89fc.py::test_invalid_mod_multiplication \u001b[32mPASSED\u001b[0m\u001b[32m                [ 81%]\u001b[0m\n",
      "t_82fb28caebe640c2b85b72cb247a89fc.py::test_inline_integer_multiplication \u001b[32mPASSED\u001b[0m\u001b[32m             [ 83%]\u001b[0m\n",
      "t_82fb28caebe640c2b85b72cb247a89fc.py::test_inline_mod_multiplication \u001b[32mPASSED\u001b[0m\u001b[32m                 [ 86%]\u001b[0m\n",
      "t_82fb28caebe640c2b85b72cb247a89fc.py::test_integer_power \u001b[32mPASSED\u001b[0m\u001b[32m                             [ 89%]\u001b[0m\n",
      "t_82fb28caebe640c2b85b72cb247a89fc.py::test_modular_power \u001b[32mPASSED\u001b[0m\u001b[32m                             [ 91%]\u001b[0m\n",
      "t_82fb28caebe640c2b85b72cb247a89fc.py::test_modular_invalid_power \u001b[32mPASSED\u001b[0m\u001b[32m                     [ 94%]\u001b[0m\n",
      "t_82fb28caebe640c2b85b72cb247a89fc.py::test_invalid_type_power \u001b[32mPASSED\u001b[0m\u001b[32m                        [ 97%]\u001b[0m\n",
      "t_82fb28caebe640c2b85b72cb247a89fc.py::test_integer_right_power \u001b[32mPASSED\u001b[0m\u001b[32m                       [100%]\u001b[0m\n",
      "\n",
      "\u001b[32m======================================= \u001b[32m\u001b[1m37 passed\u001b[0m\u001b[32m in 0.14s\u001b[0m\u001b[32m ========================================\u001b[0m\n"
     ]
    },
    {
     "data": {
      "text/plain": [
       "<ExitCode.OK: 0>"
      ]
     },
     "execution_count": 14,
     "metadata": {},
     "output_type": "execute_result"
    }
   ],
   "source": [
    "ipytest.run('-vv')"
   ]
  }
 ],
 "metadata": {
  "kernelspec": {
   "display_name": "Python 3",
   "language": "python",
   "name": "python3"
  },
  "language_info": {
   "codemirror_mode": {
    "name": "ipython",
    "version": 3
   },
   "file_extension": ".py",
   "mimetype": "text/x-python",
   "name": "python",
   "nbconvert_exporter": "python",
   "pygments_lexer": "ipython3",
   "version": "3.10.11"
  }
 },
 "nbformat": 4,
 "nbformat_minor": 2
}
