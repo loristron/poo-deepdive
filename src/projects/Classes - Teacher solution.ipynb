{
 "cells": [
  {
   "cell_type": "markdown",
   "metadata": {},
   "source": [
    "### Project 1"
   ]
  },
  {
   "cell_type": "markdown",
   "metadata": {},
   "source": [
    "We need to design an dimplement a class that will be used to represent bank accounts.\n",
    "\n",
    "We want the following functionality and characteristics:\n",
    "- accounts are uniquely identified by an **account number** (assume it will just be passed in the initializer)\n",
    "- account holders have a **first** and **last** name\n",
    "- accounts have an associated **preferred time zone offset** (e.g. -7 for MST)\n",
    "- **balances** need to be zero or higher, and should not be directly settable.\n",
    "- but, **deposits** and **withdrawals** can be made (given sufficient funds)\n",
    "    - if a withdrawal is attempted that would result in nagative funds, the transaction should be declined.\n",
    "- a **monthly interest rate** exists and is applicable to all accounts **uniformly**. There should be a method that can be called to calculate the interest on the current balance using the current interest rate, and **add it** to the balance.\n",
    "- each deposit and withdrawal must generate a **confirmation number** composed of:\n",
    "    - the transaction type: `D` for deposit, and `W` for withdrawal, `I` for interest deposit, and `X` for declined (in which case the balance remains unaffected)\n",
    "    - the account number\n",
    "    - the time the transaction was made, using UTC\n",
    "    - an incrementing number (that increments across all accounts and transactions)\n",
    "    - for (extreme!) simplicity assume that the transaction id starts at zero (or whatever number you choose) whenever the program starts\n",
    "    - the confirmation number should be returned from any of the transaction methods (deposit, withdraw, etc)\n",
    "- create a **method** that, given a confirmation number, returns:\n",
    "    - the account number, transaction code (D, W, etc), datetime (UTC format), date time (in whatever timezone is specified in te argument, but more human readable), the transaction ID\n",
    "    - make it so it is a nicely structured object (so can use dotted notation to access these three attributes)\n",
    "    - I purposefully made it so the desired timezone is passed as an argument. Can you figure out why? (hint: does this method require any information from any instance?)"
   ]
  },
  {
   "cell_type": "markdown",
   "metadata": {},
   "source": [
    "For example, we may have an account with:\n",
    "- account number `140568` \n",
    "- preferred time zone offset of -7 (MST) \n",
    "- an existing balance of `100.00`\n",
    "\n",
    "Suppose the last transaction ID in the system was `123`, and a deposit is made for `50.00` on `2019-03-15T14:59:00` (UTC) on that account (or `2019-03-15T07:59:00` in account's preferred time zone offset)\n",
    "\n",
    "The new balance should reflect `150.00` and the confirmation number returned should look something like this:\n",
    "\n",
    "```D-140568-20190315145900-124```\n",
    "\n",
    "We also want a method that given the confirmation number returns an object with attributes:\n",
    "- `result.account_number` --> `140568`\n",
    "- `result.transaction_code` --> `D`\n",
    "- `result.transaction_id` --> `124`\n",
    "- `result.time` --> `2019-03-15 07:59:00 (MST)`\n",
    "- `result.time_utc` --> `2019-03-15T14:59:00`"
   ]
  },
  {
   "cell_type": "markdown",
   "metadata": {},
   "source": [
    "Furthermore, if current interest rate is `0.5%`, and the account's balance is `1000.00`, then the result of calling the `deposit_interest` (or whatever name you choose) method, should result in a new transaction and a new balance of `1050.00`. Calling this method should also return a confirmation number.\n",
    "\n",
    "For simplicty, just use floats, but be aware that for these types of situations you'll probably want to use `Decimal` objects instead of floats."
   ]
  },
  {
   "cell_type": "markdown",
   "metadata": {},
   "source": [
    "There are going to be many ways to design something like this, especially since I have not nailed down all the specific requirements, so you'll have to fill the gaps yourself and decide what other things you may want to implement (like is the account number going to be a mutable property, or \"read-only\" and so on).\n",
    "\n",
    "See how many different ideas you can use from what we covered in the last section. "
   ]
  },
  {
   "cell_type": "markdown",
   "metadata": {},
   "source": [
    "My approach will end up creating two classes: a `TimeZone` class used to store the time zone name and offset definition (in hours and minutes), and a main class called `Account` that will have the following \"public\" interface:\n",
    "- initializer with account number, first name, last name, optional preferred time zone, starting balance (defaults to 0)\n",
    "- a first name property (read/write)\n",
    "- a last name property (read/write)\n",
    "- a full name property (computed, read-only)\n",
    "- a balance property (read-only)\n",
    "- an interest rate property (class level property)\n",
    "- deposit, withdraw, pay_interest methods\n",
    "- parse confirmation code\n",
    "\n",
    "Class will have additional state and methods, but those will be used for implementation."
   ]
  },
  {
   "cell_type": "markdown",
   "metadata": {},
   "source": [
    "You should also remember to test your code! In the solutions I will introduce you to Python's `unittest` package. Even if you skip this project, at least review that video and/or notebook if you are unfamiliar with `unittest`."
   ]
  },
  {
   "cell_type": "code",
   "execution_count": 13,
   "metadata": {},
   "outputs": [],
   "source": [
    "from datetime import timedelta, datetime\n",
    "import numbers, itertools\n",
    "from collections import namedtuple"
   ]
  },
  {
   "cell_type": "markdown",
   "metadata": {},
   "source": [
    "## Timezone class"
   ]
  },
  {
   "cell_type": "code",
   "execution_count": 14,
   "metadata": {},
   "outputs": [],
   "source": [
    "class TimeZone:\n",
    "    def __init__(self, name, offset_hours, offset_minutes) -> None:\n",
    "        if name is None or len(str(name).strip()) == 0:\n",
    "            raise ValueError('Name must be filled')\n",
    "        \n",
    "        self._name = str(name).strip() \n",
    "\n",
    "        if not isinstance(offset_hours, numbers.Integral):\n",
    "            raise ValueError('Hour offset must be integer')\n",
    "\n",
    "        if not isinstance(offset_minutes, numbers.Integral):\n",
    "            raise ValueError('Minute offset must be integer')\n",
    "        \n",
    "        if offset_minutes > 59 and offset_minutes < -59:\n",
    "            raise ValueError('Minutes bust be between -59 and 59')\n",
    "        \n",
    "        offset = timedelta(hours=offset_hours, minutes=offset_minutes)\n",
    "        if offset < timedelta(hours=-12, minutes=0) or offset > timedelta(hours=14, minutes=0):\n",
    "            raise ValueError('Offset must be between -12:00 and +14:00')        \n",
    "\n",
    "        self._offset_hours = offset_hours\n",
    "        self._offset_minutes = offset_minutes\n",
    "        self._offset = offset\n",
    "\n",
    "    @property\n",
    "    def offset(self):\n",
    "        return self._offset \n",
    "    \n",
    "    @property\n",
    "    def name(self):\n",
    "        return self._name\n",
    "\n",
    "    def __eq__(self, other):\n",
    "        return (isinstance(other, TimeZone) and \n",
    "                self.name == other.name and \n",
    "                self._offset_hours == other._offset_hours and\n",
    "                self._offset_minutes == other._offset_minutes)\n",
    "    \n",
    "    def __repr__(self):\n",
    "        return (f\"TimeZone(name='{self._name}', offset_hours={self._offset_hours}, \"\n",
    "                f\"offset_minutes={self._offset_minutes})\")"
   ]
  },
  {
   "cell_type": "markdown",
   "metadata": {},
   "source": [
    "## Account Class"
   ]
  },
  {
   "cell_type": "code",
   "execution_count": 15,
   "metadata": {},
   "outputs": [],
   "source": [
    "class Account:\n",
    "    transaction_counter = itertools.count(0)\n",
    "    _interest_rate = 0.5 # percent\n",
    "    _transactional_codes = {\n",
    "        'deposit': 'D', \n",
    "        'withdraw': 'W', \n",
    "        'interest': 'I',\n",
    "        'rejected': 'X'\n",
    "    }\n",
    "\n",
    "    Confirmation = namedtuple('Confirmation', 'account_number transaction_code transaction_id time_utc time')\n",
    "\n",
    "    def __init__(self, account_number, first_name, last_name, initial_blance=0, timezone=None):\n",
    "        self._account_number = account_number\n",
    "        self.first_name = first_name\n",
    "        self.last_name = last_name\n",
    "\n",
    "        if timezone is None:\n",
    "            timezone = TimeZone('UTC', 0, 0)\n",
    "        \n",
    "        self.timezone = timezone\n",
    "\n",
    "        validate_initial_balance = Account.validate_real_number(value=initial_blance, field_name='Inital Balance', min_value=0)\n",
    "        self._balance = float(validate_initial_balance)\n",
    "\n",
    "    @classmethod\n",
    "    def get_interest_rate(cls):\n",
    "        return cls._interest_rate\n",
    "    \n",
    "    @classmethod\n",
    "    def set_interest_rate(cls, value):\n",
    "        if not isinstance(value, numbers.Real):\n",
    "            raise ValueError('Interest rate must be a real number')\n",
    "        \n",
    "        if value < 0:\n",
    "            raise ValueError('Interest rate cannot be negative')\n",
    "    \n",
    "        if value > 1:\n",
    "            raise ValueError('Interest rate must be a percent number')\n",
    "        \n",
    "        cls._interest_rate = value\n",
    "\n",
    "    @property\n",
    "    def balance(self):\n",
    "        return self._balance\n",
    "\n",
    "    @property\n",
    "    def account_number(self):\n",
    "        return self._account_number\n",
    "    \n",
    "    @property\n",
    "    def first_name(self): \n",
    "        return self._first_name\n",
    "    \n",
    "    @first_name.setter\n",
    "    def first_name(self, value):\n",
    "        self._first_name = Account.validate_name(value=value, field='First Name')\n",
    "\n",
    "    @property\n",
    "    def last_name(self):\n",
    "        return self._last_name\n",
    "    \n",
    "    @last_name.setter\n",
    "    def last_name(self, value):\n",
    "        self._last_name = Account.validate_name(value=value, field='Last Name') \n",
    "\n",
    "    @property\n",
    "    def timezone(self):\n",
    "        return self._timezone\n",
    "\n",
    "    @timezone.setter\n",
    "    def timezone(self, value):\n",
    "        if not isinstance(value, TimeZone):\n",
    "            raise ValueError('Time zone must be TimeZone instance or object')\n",
    "        self._timezone = value \n",
    "\n",
    "    def deposit(self, value):\n",
    "        value = Account.validate_real_number(value=value, field_name='Deposit', min_value=0.01)\n",
    "        transaction_code = Account._transactional_codes['deposit']\n",
    "        confirmation_code = self.generate_confirmation_code(transaction_code=transaction_code) \n",
    "        self._balance += value\n",
    "        return confirmation_code\n",
    "    \n",
    "    def withdraw(self, value):\n",
    "        value = Account.validate_real_number(value=value, field_name='withdraw', min_value=0.01)\n",
    "        transaction_code_key = 'rejected' if self.balance - value < 0 else 'withdraw'\n",
    "        transaction_code = Account._transactional_codes[transaction_code_key]\n",
    "        \n",
    "        confirmation_code = self.generate_confirmation_code(transaction_code=transaction_code)\n",
    "        \n",
    "        if transaction_code_key != 'rejected':\n",
    "            self._balance -= value \n",
    "        \n",
    "        return confirmation_code\n",
    "    \n",
    "    def pay_interest(self):\n",
    "        interest = self.balance * Account.get_interest_rate() / 100 \n",
    "        confirmation_code = self.generate_confirmation_code(transaction_code=Account._transactional_codes['interest'])\n",
    "        self._balance += interest\n",
    "        return confirmation_code\n",
    "    \n",
    "    def generate_confirmation_code(self, transaction_code):\n",
    "        dt_str = datetime.now().strftime('%Y%m%d%H%M%S')\n",
    "        return f\"{transaction_code}-{self.account_number}-{dt_str}-{next(Account.transaction_counter)}\"\n",
    "    \n",
    "    @staticmethod\n",
    "    def validate_real_number(value, field_name, min_value=None):\n",
    "        if not isinstance(value, numbers.Real):\n",
    "            raise ValueError(f'{str(field_name).capitalize()} value must be a real number')\n",
    "        \n",
    "        if min_value is not None and value < min_value:\n",
    "            raise ValueError(f'{str(field_name).capitalize()} value must be at least {min_value}')\n",
    "        \n",
    "        return value\n",
    "        \n",
    "    @staticmethod\n",
    "    def validate_name(value, field):\n",
    "        if len(str(value).strip()) == 0 or value is None:\n",
    "            raise ValueError(f'{field} must not be empty')\n",
    "        return str(value).strip()\n",
    "    \n",
    "    @staticmethod\n",
    "    def parse_confirmation_code(confirmation_code, preferred_time_zone=None):\n",
    "        parts = confirmation_code.split('-')\n",
    "        if len(parts) != 4:\n",
    "            raise ValueError(\"Invalid confirmation code\")\n",
    "        \n",
    "        transaction_code, account_number, raw_utc_str, transaction_id = parts \n",
    "        \n",
    "        try:\n",
    "            utc_date = datetime.strptime(raw_utc_str, '%Y%m%d%H%M%S') \n",
    "        except ValueError as ve:\n",
    "            raise ValueError('Invalid transaction datetime') from ve \n",
    "        \n",
    "        if preferred_time_zone is None:\n",
    "            preferred_time_zone = TimeZone('UTC', 0, 0)\n",
    "\n",
    "        if not isinstance(preferred_time_zone, TimeZone):\n",
    "            raise ValueError('Preferred timezone must be TimeZone object or instance')\n",
    "        \n",
    "        dt_preferred = utc_date + preferred_time_zone.offset\n",
    "        dt_preferred_str = f\"{dt_preferred.strftime('%Y-%m-%d %H:%M:%S')} ({preferred_time_zone.name})\"\n",
    "        \n",
    "        return Account.Confirmation(account_number, transaction_code, transaction_id, \n",
    "                            utc_date.isoformat(), dt_preferred_str)\n",
    "\n"
   ]
  },
  {
   "cell_type": "code",
   "execution_count": null,
   "metadata": {},
   "outputs": [],
   "source": [
    "tmz = TimeZone(name='UTC', offset_hours=0, offset_minutes=0)\n",
    "a1 = Account(account_number=1, first_name='Lorena', last_name='Miranda', timezone=tmz, initial_blance=100)\n",
    "a2 = Account(123, 'Monty', 'Python')\n",
    "a3 = Account('A100', 'Eric', 'Idle', timezone=TimeZone(name='UTC-3', offset_hours=-3, offset_minutes=0), initial_blance=100)"
   ]
  },
  {
   "cell_type": "markdown",
   "metadata": {},
   "source": [
    "## Tests"
   ]
  },
  {
   "cell_type": "code",
   "execution_count": 23,
   "metadata": {},
   "outputs": [],
   "source": [
    "import unittest\n",
    "\n",
    "def run_tests(test_class):\n",
    "    suite = unittest.TestLoader().loadTestsFromTestCase(testCaseClass=test_class)\n",
    "    runner = unittest.TextTestRunner(verbosity=2)\n",
    "    runner.run(suite)"
   ]
  },
  {
   "cell_type": "code",
   "execution_count": 43,
   "metadata": {},
   "outputs": [],
   "source": [
    "class TestAccount(unittest.TestCase):\n",
    "    \n",
    "    def setUp(self):\n",
    "        print('Running setup... ')\n",
    "        self.x = 100\n",
    "\n",
    "    def tearDown(self):\n",
    "        print(\"Running tearDown...\")\n",
    "\n",
    "    def test_create_timezone(self):\n",
    "        tz = TimeZone('ABC', -1, -30)\n",
    "        self.assertEqual('ABC', tz.name)\n",
    "        self.assertEqual(timedelta(hours=-1, minutes=-30), tz.offset)\n",
    "\n",
    "    def test_timezones_equal(self):\n",
    "        tz1 = TimeZone('ABC', -1, -30)\n",
    "        tz2 = TimeZone('ABC', -1, -30)\n",
    "        self.assertEqual(tz1, tz2)\n",
    "\n",
    "    def test_timezones_not_equal(self):\n",
    "        tz1 = TimeZone('ABC', -1, -30)\n",
    "\n",
    "        test_timezones = (\n",
    "        TimeZone('UTC-3', -3, 0),\n",
    "        TimeZone('Udbe', -3, 0),\n",
    "        TimeZone('ABC', -4, 0)\n",
    "        )\n",
    "\n",
    "        for test_tz in test_timezones:\n",
    "            self.assertNotEqual(tz1, test_tz)\n"
   ]
  },
  {
   "cell_type": "code",
   "execution_count": 44,
   "metadata": {},
   "outputs": [
    {
     "name": "stderr",
     "output_type": "stream",
     "text": [
      "test_create_timezone (__main__.TestAccount) ... ok\n",
      "test_timezones_equal (__main__.TestAccount) ... ok\n",
      "test_timezones_not_equal (__main__.TestAccount) ... ok\n",
      "\n",
      "----------------------------------------------------------------------\n",
      "Ran 3 tests in 0.003s\n",
      "\n",
      "OK\n"
     ]
    },
    {
     "name": "stdout",
     "output_type": "stream",
     "text": [
      "Running setup... \n",
      "Running tearDown...\n",
      "Running setup... \n",
      "Running tearDown...\n",
      "Running setup... \n",
      "Running tearDown...\n"
     ]
    }
   ],
   "source": [
    "run_tests(TestAccount)"
   ]
  },
  {
   "cell_type": "code",
   "execution_count": null,
   "metadata": {},
   "outputs": [],
   "source": []
  }
 ],
 "metadata": {
  "kernelspec": {
   "display_name": "Python 3",
   "language": "python",
   "name": "python3"
  },
  "language_info": {
   "codemirror_mode": {
    "name": "ipython",
    "version": 3
   },
   "file_extension": ".py",
   "mimetype": "text/x-python",
   "name": "python",
   "nbconvert_exporter": "python",
   "pygments_lexer": "ipython3",
   "version": "3.10.11"
  }
 },
 "nbformat": 4,
 "nbformat_minor": 2
}
