{
 "cells": [
  {
   "cell_type": "markdown",
   "metadata": {},
   "source": [
    "# Descriptors project\n",
    "\n",
    "We have a project where we need to define classes that have fields that we want validated before we can set their value.\n",
    "\n",
    "This might be because these objects will later be serialized into a database, and we need to ensure the data is valid before we write to the database."
   ]
  },
  {
   "cell_type": "markdown",
   "metadata": {},
   "source": [
    "# Part 1 \n",
    "\n",
    "Write two data descriptors:\n",
    "- `IntegerField` \n",
    "\n",
    "Only allows integer numbers between minimun and maximun value. \n",
    "\n",
    "- `CharField`\n",
    "\n",
    "Only allow strings with a minimum and a maximum length. "
   ]
  },
  {
   "cell_type": "markdown",
   "metadata": {},
   "source": [
    "So we want to be able to use the descriptors like:\n",
    "\n",
    "```\n",
    "class Person:\n",
    "    name = CharField(1, 50)\n",
    "    age = IntegerField(0, 190)\n",
    "```"
   ]
  },
  {
   "cell_type": "markdown",
   "metadata": {},
   "source": [
    "For simplicity, we will assume that we're __not__ working with classes limited by `__slots__`"
   ]
  },
  {
   "cell_type": "code",
   "execution_count": 1,
   "metadata": {},
   "outputs": [],
   "source": [
    "import numbers\n",
    "\n",
    "class IntegerField:\n",
    "    def __init__(self, min=None, max=None):\n",
    "        self.min = min \n",
    "        self.max = max \n",
    "\n",
    "    def __set_name__(self, owner_class, prop_name):\n",
    "        self.prop_name = prop_name\n",
    "\n",
    "    def __set__(self, instance, value):\n",
    "        print('__set__Called ')\n",
    "        if not isinstance(value, numbers.Integral):\n",
    "            raise ValueError(f'{self.prop_name} must be a integer value')\n",
    "        \n",
    "        if self.min is not None and value < self.min:\n",
    "            raise ValueError(f'{self.prop_name} must be a integral greater than {self.min}')\n",
    "        \n",
    "        if self.max is not None and value > self.max:\n",
    "            raise ValueError(f'{self.prop_name} must be a Integer value smaller or equal {self.max}')\n",
    "        \n",
    "        instance.__dict__[self.prop_name] = value\n",
    "\n",
    "    def __get__(self, instance, owner_class):\n",
    "        print('get called')\n",
    "        if instance is None:\n",
    "            return self \n",
    "        return instance.__dict__.get(self.prop_name, None)\n"
   ]
  },
  {
   "cell_type": "markdown",
   "metadata": {},
   "source": [
    "# Part 2 \n",
    "\n",
    "Since we wrote two different classes, a lot of code has been duplicated. \n",
    "\n",
    "Refactor the code to create a a descriptor `BaseValidator` class that will handle the common functionality and change the `IntegerField` and `CharField` to *inherit* from `BaseValidator`\n",
    "\n",
    "Also deal with the situation where the bounds (limits) are not provided in different combination. \n",
    "\n",
    "Don't forget unittest!"
   ]
  }
 ],
 "metadata": {
  "kernelspec": {
   "display_name": "Python 3",
   "language": "python",
   "name": "python3"
  },
  "language_info": {
   "codemirror_mode": {
    "name": "ipython",
    "version": 3
   },
   "file_extension": ".py",
   "mimetype": "text/x-python",
   "name": "python",
   "nbconvert_exporter": "python",
   "pygments_lexer": "ipython3",
   "version": "3.10.11"
  }
 },
 "nbformat": 4,
 "nbformat_minor": 2
}
