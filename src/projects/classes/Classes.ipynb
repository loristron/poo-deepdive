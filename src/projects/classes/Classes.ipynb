{
 "cells": [
  {
   "cell_type": "markdown",
   "metadata": {},
   "source": [
    "### Project 1"
   ]
  },
  {
   "cell_type": "markdown",
   "metadata": {},
   "source": [
    "We need to design an dimplement a class that will be used to represent bank accounts.\n",
    "\n",
    "We want the following functionality and characteristics:\n",
    "- accounts are uniquely identified by an **account number** (assume it will just be passed in the initializer)\n",
    "- account holders have a **first** and **last** name\n",
    "- accounts have an associated **preferred time zone offset** (e.g. -7 for MST)\n",
    "- **balances** need to be zero or higher, and should not be directly settable.\n",
    "- but, **deposits** and **withdrawals** can be made (given sufficient funds)\n",
    "    - if a withdrawal is attempted that would result in nagative funds, the transaction should be declined.\n",
    "- a **monthly interest rate** exists and is applicable to all accounts **uniformly**. There should be a method that can be called to calculate the interest on the current balance using the current interest rate, and **add it** to the balance.\n",
    "- each deposit and withdrawal must generate a **confirmation number** composed of:\n",
    "    - the transaction type: `D` for deposit, and `W` for withdrawal, `I` for interest deposit, and `X` for declined (in which case the balance remains unaffected)\n",
    "    - the account number\n",
    "    - the time the transaction was made, using UTC\n",
    "    - an incrementing number (that increments across all accounts and transactions)\n",
    "    - for (extreme!) simplicity assume that the transaction id starts at zero (or whatever number you choose) whenever the program starts\n",
    "    - the confirmation number should be returned from any of the transaction methods (deposit, withdraw, etc)\n",
    "- create a **method** that, given a confirmation number, returns:\n",
    "    - the account number, transaction code (D, W, etc), datetime (UTC format), date time (in whatever timezone is specified in te argument, but more human readable), the transaction ID\n",
    "    - make it so it is a nicely structured object (so can use dotted notation to access these three attributes)\n",
    "    - I purposefully made it so the desired timezone is passed as an argument. Can you figure out why? (hint: does this method require any information from any instance?)"
   ]
  },
  {
   "cell_type": "markdown",
   "metadata": {},
   "source": [
    "For example, we may have an account with:\n",
    "- account number `140568` \n",
    "- preferred time zone offset of -7 (MST) \n",
    "- an existing balance of `100.00`\n",
    "\n",
    "Suppose the last transaction ID in the system was `123`, and a deposit is made for `50.00` on `2019-03-15T14:59:00` (UTC) on that account (or `2019-03-15T07:59:00` in account's preferred time zone offset)\n",
    "\n",
    "The new balance should reflect `150.00` and the confirmation number returned should look something like this:\n",
    "\n",
    "```D-140568-20190315145900-124```\n",
    "\n",
    "We also want a method that given the confirmation number returns an object with attributes:\n",
    "- `result.account_number` --> `140568`\n",
    "- `result.transaction_code` --> `D`\n",
    "- `result.transaction_id` --> `124`\n",
    "- `result.time` --> `2019-03-15 07:59:00 (MST)`\n",
    "- `result.time_utc` --> `2019-03-15T14:59:00`"
   ]
  },
  {
   "cell_type": "markdown",
   "metadata": {},
   "source": [
    "Furthermore, if current interest rate is `0.5%`, and the account's balance is `1000.00`, then the result of calling the `deposit_interest` (or whatever name you choose) method, should result in a new transaction and a new balance of `1050.00`. Calling this method should also return a confirmation number.\n",
    "\n",
    "For simplicty, just use floats, but be aware that for these types of situations you'll probably want to use `Decimal` objects instead of floats."
   ]
  },
  {
   "cell_type": "markdown",
   "metadata": {},
   "source": [
    "There are going to be many ways to design something like this, especially since I have not nailed down all the specific requirements, so you'll have to fill the gaps yourself and decide what other things you may want to implement (like is the account number going to be a mutable property, or \"read-only\" and so on).\n",
    "\n",
    "See how many different ideas you can use from what we covered in the last section. "
   ]
  },
  {
   "cell_type": "markdown",
   "metadata": {},
   "source": [
    "My approach will end up creating two classes: a `TimeZone` class used to store the time zone name and offset definition (in hours and minutes), and a main class called `Account` that will have the following \"public\" interface:\n",
    "- initializer with account number, first name, last name, optional preferred time zone, starting balance (defaults to 0)\n",
    "- a first name property (read/write)\n",
    "- a last name property (read/write)\n",
    "- a full name property (computed, read-only)\n",
    "- a balance property (read-only)\n",
    "- an interest rate property (class level property)\n",
    "- deposit, withdraw, pay_interest methods\n",
    "- parse confirmation code\n",
    "\n",
    "Class will have additional state and methods, but those will be used for implementation."
   ]
  },
  {
   "cell_type": "markdown",
   "metadata": {},
   "source": [
    "You should also remember to test your code! In the solutions I will introduce you to Python's `unittest` package. Even if you skip this project, at least review that video and/or notebook if you are unfamiliar with `unittest`."
   ]
  },
  {
   "cell_type": "code",
   "execution_count": null,
   "metadata": {},
   "outputs": [],
   "source": [
    "from datetime import datetime, timedelta, timezone\n",
    "import re"
   ]
  },
  {
   "cell_type": "code",
   "execution_count": null,
   "metadata": {},
   "outputs": [],
   "source": [
    "class Timer:\n",
    "    \n",
    "    tz = timezone.utc\n",
    "\n",
    "    def __init__(self, offset=0) -> None:\n",
    "        self.offset = offset\n",
    "        self.tz = timezone(timedelta(hours=offset))\n",
    "\n",
    "    @classmethod\n",
    "    def get_current_dt(self):\n",
    "        return self.tz\n",
    "    \n",
    "    @staticmethod\n",
    "    def get_utc_time():\n",
    "        return datetime.now(timezone.utc)\n",
    "    \n",
    "    def convert_utc_to_offset_timezone(self, timeobj):\n",
    "        pass \n"
   ]
  },
  {
   "cell_type": "code",
   "execution_count": null,
   "metadata": {},
   "outputs": [],
   "source": [
    "class Result:    \n",
    "    def __init__(self, confirmation_number) -> None:\n",
    "        self.confirmation_number = confirmation_number\n",
    "        self.account_number = self._validate_group(pattern=r'\\w-(\\d+)')\n",
    "        self.transaction_code = self._validate_group(pattern=r'(\\w)-\\d+')\n",
    "        self.transaction_id = self._validate_group(pattern=r'-(\\d+)$')\n",
    "        self.raw_timestring = self._validate_group(pattern=r'(\\d+)-\\d+$')\n",
    "\n",
    "    def _validate_group(self, pattern):\n",
    "        data = re.search(pattern, self.confirmation_number)\n",
    "        if data:\n",
    "            return data.group(1)\n",
    "        else:\n",
    "            raise AttributeError('Must be a valid confirmation number')\n",
    "\n",
    "    @property \n",
    "    def timer(self):\n",
    "        if not self.timer:\n",
    "            return AttributeError('Timer not seted')\n",
    "        return self.timer \n",
    "\n",
    "    @timer.setter\n",
    "    def timer(self, timer):\n",
    "        if not isinstance(timer, Timer):\n",
    "            raise ValueError('Timer bust be a Timer object')\n",
    "        time_utc_obj = datetime.strptime(self.raw_timestring, \"%Y%m%d%H%M%S\")\n",
    "        self.time_utc = time_utc_obj.strftime('%Y-%m-%dT%h:%m:%S')\n",
    "        time_offset_obj = time_utc_obj + timedelta(hours=timer.offset)\n",
    "        self.time = time_offset_obj.strftime('%Y-%m-%d %H:%M:%S')"
   ]
  },
  {
   "cell_type": "code",
   "execution_count": null,
   "metadata": {},
   "outputs": [],
   "source": [
    "class Account:\n",
    "\n",
    "    _accounts = [] \n",
    "    _monthly_interest_rate = 0 \n",
    "    _transaction_id = 0\n",
    "\n",
    "    def __init__(self, account_number: int, balance: float, first_name: str, last_name: str, time_zone_offset: int) -> None:\n",
    "        if not isinstance(account_number, int):\n",
    "            raise TypeError('Account number must be integer')\n",
    "        \n",
    "        if not (isinstance(balance, float) or isinstance(balance, int)):\n",
    "            raise TypeError('Balance must be a number.')\n",
    "        \n",
    "        if balance < 0:\n",
    "            raise AttributeError('Balance must be zero or higher')\n",
    "        \n",
    "        self._add_new_account(account_number=account_number)\n",
    "        self._account_number = account_number\n",
    "        self._first_name = first_name\n",
    "        self._last_name = last_name\n",
    "        self._balance = balance\n",
    "        self._time_zone_offset = time_zone_offset\n",
    "        self.timer = Timer(time_zone_offset)\n",
    "\n",
    "    @classmethod\n",
    "    def _add_new_account(cls, account_number):\n",
    "        if account_number in cls._accounts:\n",
    "            raise AssertionError(\"Account number must be unique\")\n",
    "        cls._accounts.append(account_number)\n",
    "\n",
    "    @classmethod\n",
    "    def set_monthly_interest_rate(cls, value):\n",
    "        if (isinstance(value, int) or isinstance(value, float)):\n",
    "            cls._monthly_interest_rate = value \n",
    "        else:\n",
    "            raise TypeError(\"Rate must be a number\")\n",
    "\n",
    "    @staticmethod\n",
    "    def is_name_valid(value):\n",
    "        if isinstance(value, str) and len(value) > 1:\n",
    "            return True \n",
    "        return False \n",
    "    \n",
    "    @property\n",
    "    def first_name(self):\n",
    "        return self._first_name\n",
    "    \n",
    "    @first_name.setter\n",
    "    def first_name(self, value):\n",
    "        if self.is_name_valid():\n",
    "            self._first_name = value \n",
    "        else:\n",
    "            raise AttributeError('Invalid name')\n",
    "    \n",
    "    @property\n",
    "    def last_name(self):\n",
    "        return self._last_name\n",
    "    \n",
    "    @last_name.setter\n",
    "    def last_name(self, value):\n",
    "        if self.is_name_valid():\n",
    "            self._last_name = value \n",
    "        else:\n",
    "            raise AttributeError('Invalid last name')\n",
    "            \n",
    "    @property\n",
    "    def full_name(self):\n",
    "        return ' '.join([self._first_name, self._last_name])\n",
    "        \n",
    "    @property\n",
    "    def balance(self):\n",
    "        return self._balance \n",
    "    \n",
    "    @property\n",
    "    def account_number(self):\n",
    "        return self._account_number\n",
    "    \n",
    "    @property\n",
    "    def timezone_offset(self):\n",
    "        return self._time_zone_offset\n",
    "    \n",
    "    @timezone_offset.setter\n",
    "    def timezone_offset(self, value):\n",
    "        self._time_zone_offset = value \n",
    "\n",
    "    def deposit(self, value):\n",
    "        transaction_type = 'D'\n",
    "        if not value > 0:\n",
    "            raise ValueError(\"Deposits bust me greater than zero\")\n",
    "        self._balance += value \n",
    "        return self._generate_confirmation_number(transaction_type=transaction_type)\n",
    "\n",
    "    def withdrawal(self, value):\n",
    "        transaction_type = 'W' \n",
    "        \n",
    "        if not value > 0:\n",
    "            raise ValueError('Withdrawals must be greater than zero')\n",
    "        \n",
    "        if value <= self._balance:\n",
    "            self._balance -= value\n",
    "        else:\n",
    "            transaction_type = 'X'\n",
    "        \n",
    "        return self._generate_confirmation_number(transaction_type=transaction_type)\n",
    "\n",
    "    @classmethod\n",
    "    def increase_transactions(cls):\n",
    "        cls._transaction_id += 1 \n",
    "\n",
    "    def _generate_confirmation_number(self, transaction_type):\n",
    "        utc = ''.join(self.timer.get_utc_time().strftime('%Y%m%d%H%M%S'))\n",
    "        confirmation_string = f\"{transaction_type.upper()}-{self.account_number}-{utc}-{self._transaction_id}\"\n",
    "        if transaction_type != 'X':\n",
    "            self.increase_transactions()\n",
    "        return confirmation_string\n",
    "\n",
    "    def parse_confirmation_code(self, confirmation_number):\n",
    "        obj = Result(confirmation_number=confirmation_number)\n",
    "        obj.timer = self.timer\n",
    "        return obj \n",
    "\n",
    "    def account_interest_deposit(self):\n",
    "        account_interest_rate = self._balance * self._monthly_interest_rate\n",
    "        self._balance += account_interest_rate\n",
    "        return self._generate_confirmation_number(transaction_type='I')"
   ]
  },
  {
   "cell_type": "code",
   "execution_count": null,
   "metadata": {},
   "outputs": [],
   "source": [
    "person = Account(account_number=2, balance=100, first_name='Lorena', last_name='Miranda', time_zone_offset=-3)\n"
   ]
  },
  {
   "cell_type": "code",
   "execution_count": null,
   "metadata": {},
   "outputs": [],
   "source": [
    "person.balance"
   ]
  },
  {
   "cell_type": "code",
   "execution_count": null,
   "metadata": {},
   "outputs": [],
   "source": [
    "person.deposit(100)"
   ]
  },
  {
   "cell_type": "code",
   "execution_count": null,
   "metadata": {},
   "outputs": [],
   "source": [
    "person.balance"
   ]
  },
  {
   "cell_type": "code",
   "execution_count": null,
   "metadata": {},
   "outputs": [],
   "source": [
    "person.withdrawal(30)"
   ]
  },
  {
   "cell_type": "code",
   "execution_count": null,
   "metadata": {},
   "outputs": [],
   "source": [
    "person.balance"
   ]
  },
  {
   "cell_type": "code",
   "execution_count": null,
   "metadata": {},
   "outputs": [],
   "source": [
    "person.withdrawal(200)"
   ]
  },
  {
   "cell_type": "code",
   "execution_count": null,
   "metadata": {},
   "outputs": [],
   "source": [
    "person.balance"
   ]
  },
  {
   "cell_type": "code",
   "execution_count": null,
   "metadata": {},
   "outputs": [],
   "source": [
    "person.full_name"
   ]
  },
  {
   "cell_type": "code",
   "execution_count": null,
   "metadata": {},
   "outputs": [],
   "source": [
    "person.__dict__"
   ]
  },
  {
   "cell_type": "code",
   "execution_count": null,
   "metadata": {},
   "outputs": [],
   "source": [
    "result = person.parse_confirmation_code(\"W-2-20241105143023-1\")\n",
    "result.account_number, result.transaction_code, result.time_utc, result.time"
   ]
  },
  {
   "cell_type": "code",
   "execution_count": null,
   "metadata": {},
   "outputs": [],
   "source": [
    "person.balance"
   ]
  },
  {
   "cell_type": "code",
   "execution_count": null,
   "metadata": {},
   "outputs": [],
   "source": [
    "Account.set_monthly_interest_rate(value=0.05)"
   ]
  },
  {
   "cell_type": "code",
   "execution_count": null,
   "metadata": {},
   "outputs": [],
   "source": [
    "person.account_interest_deposit()"
   ]
  },
  {
   "cell_type": "code",
   "execution_count": null,
   "metadata": {},
   "outputs": [],
   "source": [
    "person.balance"
   ]
  }
 ],
 "metadata": {
  "kernelspec": {
   "display_name": "Python 3",
   "language": "python",
   "name": "python3"
  },
  "language_info": {
   "codemirror_mode": {
    "name": "ipython",
    "version": 3
   },
   "file_extension": ".py",
   "mimetype": "text/x-python",
   "name": "python",
   "nbconvert_exporter": "python",
   "pygments_lexer": "ipython3",
   "version": "3.10.11"
  }
 },
 "nbformat": 4,
 "nbformat_minor": 2
}
